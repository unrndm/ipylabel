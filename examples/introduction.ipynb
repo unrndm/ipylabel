{
 "cells": [
  {
   "cell_type": "markdown",
   "metadata": {},
   "source": [
    "# Introduction"
   ]
  },
  {
   "cell_type": "code",
   "execution_count": 1,
   "metadata": {},
   "outputs": [],
   "source": [
    "# handle launching on colab\n",
    "if 'google.colab' in str(get_ipython()):\n",
    "  # running on CoLab\n",
    "  %pip install -U \"ipylabel>=0.1.4\"\n",
    "\n",
    "  from google.colab import output\n",
    "  output.enable_custom_widget_manager()"
   ]
  },
  {
   "cell_type": "code",
   "execution_count": 2,
   "metadata": {},
   "outputs": [],
   "source": [
    "from __future__ import annotations\n",
    "\n",
    "import ipylabel"
   ]
  },
  {
   "cell_type": "code",
   "execution_count": 3,
   "metadata": {},
   "outputs": [
    {
     "data": {
      "application/vnd.jupyter.widget-view+json": {
       "model_id": "32f293662e3d4cc0a69758fe61438a23",
       "version_major": 2,
       "version_minor": 0
      },
      "text/plain": [
       "TextWidget(colors=['#ff0000', '#00ff00', '#0000ff'], labels=['protein', 'DNA', 'RNA'], result=[{'start': 0, 'e…"
      ]
     },
     "metadata": {},
     "output_type": "display_data"
    }
   ],
   "source": [
    "text_widget = ipylabel.TextWidget(\n",
    "    text=\"Мама мыла раму\",\n",
    "    labels=[\"protein\", \"DNA\", \"RNA\"],\n",
    "    colors=[\"#ff0000\", \"#00ff00\", \"#0000ff\"],\n",
    "    result=[{\"start\": 0, \"end\": 5, \"label\": \"DNA\"}]\n",
    ")\n",
    "\n",
    "text_widget.observe(lambda c: print(c), [\"result\", \"finished\"])\n",
    "text_widget"
   ]
  },
  {
   "cell_type": "code",
   "execution_count": 4,
   "metadata": {},
   "outputs": [
    {
     "data": {
      "application/vnd.jupyter.widget-view+json": {
       "model_id": "aff9cc7ebd674efda08ca5df2de89c24",
       "version_major": 2,
       "version_minor": 0
      },
      "text/plain": [
       "TextWidget(colors=['#ff0000', '#00ff00', '#0000ff'], labels=['protein', 'DNA', 'RNA'], result=[{'start': 0, 'e…"
      ]
     },
     "metadata": {},
     "output_type": "display_data"
    },
    {
     "data": {
      "application/vnd.jupyter.widget-view+json": {
       "model_id": "788f002c93444742ba39110345273038",
       "version_major": 2,
       "version_minor": 0
      },
      "text/plain": [
       "TextWidget(colors=['#ff0000', '#00ff00', '#0000ff'], labels=['protein', 'DNA', 'RNA'], result=[{'start': 0, 'e…"
      ]
     },
     "metadata": {},
     "output_type": "display_data"
    },
    {
     "data": {
      "application/vnd.jupyter.widget-view+json": {
       "model_id": "d57c340c0c614d71890b2d0c3e8a04b3",
       "version_major": 2,
       "version_minor": 0
      },
      "text/plain": [
       "TextWidget(colors=['#ff0000', '#00ff00', '#0000ff'], labels=['protein', 'DNA', 'RNA'], result=[{'start': 0, 'e…"
      ]
     },
     "metadata": {},
     "output_type": "display_data"
    },
    {
     "data": {
      "application/vnd.jupyter.widget-view+json": {
       "model_id": "a240334825444bce9e16b8ac3ba22e3f",
       "version_major": 2,
       "version_minor": 0
      },
      "text/plain": [
       "TextWidget(colors=['#ff0000', '#00ff00', '#0000ff'], labels=['protein', 'DNA', 'RNA'], result=[{'start': 0, 'e…"
      ]
     },
     "metadata": {},
     "output_type": "display_data"
    },
    {
     "data": {
      "application/vnd.jupyter.widget-view+json": {
       "model_id": "1d39d159e0764e21b82c791925c59cbd",
       "version_major": 2,
       "version_minor": 0
      },
      "text/plain": [
       "TextWidget(colors=['#ff0000', '#00ff00', '#0000ff'], labels=['protein', 'DNA', 'RNA'], result=[{'start': 0, 'e…"
      ]
     },
     "metadata": {},
     "output_type": "display_data"
    },
    {
     "data": {
      "application/vnd.jupyter.widget-view+json": {
       "model_id": "0d109bbbe231433f9136017cad9c2c3c",
       "version_major": 2,
       "version_minor": 0
      },
      "text/plain": [
       "TextWidget(colors=['#ff0000', '#00ff00', '#0000ff'], labels=['protein', 'DNA', 'RNA'], result=[{'start': 0, 'e…"
      ]
     },
     "metadata": {},
     "output_type": "display_data"
    },
    {
     "data": {
      "application/vnd.jupyter.widget-view+json": {
       "model_id": "f9efcf49772148f89768db197b0efdb0",
       "version_major": 2,
       "version_minor": 0
      },
      "text/plain": [
       "TextWidget(colors=['#ff0000', '#00ff00', '#0000ff'], labels=['protein', 'DNA', 'RNA'], result=[{'start': 0, 'e…"
      ]
     },
     "metadata": {},
     "output_type": "display_data"
    },
    {
     "data": {
      "application/vnd.jupyter.widget-view+json": {
       "model_id": "278fcb54cffe49aaa300f546e3cd0e1e",
       "version_major": 2,
       "version_minor": 0
      },
      "text/plain": [
       "TextWidget(colors=['#ff0000', '#00ff00', '#0000ff'], labels=['protein', 'DNA', 'RNA'], result=[{'start': 0, 'e…"
      ]
     },
     "metadata": {},
     "output_type": "display_data"
    },
    {
     "data": {
      "application/vnd.jupyter.widget-view+json": {
       "model_id": "e77d62e603a24c5b81c2471618b0d8e2",
       "version_major": 2,
       "version_minor": 0
      },
      "text/plain": [
       "TextWidget(colors=['#ff0000', '#00ff00', '#0000ff'], labels=['protein', 'DNA', 'RNA'], result=[{'start': 0, 'e…"
      ]
     },
     "metadata": {},
     "output_type": "display_data"
    },
    {
     "data": {
      "application/vnd.jupyter.widget-view+json": {
       "model_id": "abe167ab83db4e4ab9af34565e28110e",
       "version_major": 2,
       "version_minor": 0
      },
      "text/plain": [
       "TextWidget(colors=['#ff0000', '#00ff00', '#0000ff'], labels=['protein', 'DNA', 'RNA'], result=[{'start': 0, 'e…"
      ]
     },
     "metadata": {},
     "output_type": "display_data"
    }
   ],
   "source": [
    "widgets = [\n",
    "    ipylabel.TextWidget(\n",
    "        text=\"Мама мыла раму\",\n",
    "        labels=[\"protein\", \"DNA\", \"RNA\"],\n",
    "        colors=[\"#ff0000\", \"#00ff00\", \"#0000ff\"],\n",
    "        result=[{\"start\": 0, \"end\": 5, \"label\": \"DNA\"}]\n",
    "    ) for _ in range(10)\n",
    "]\n",
    "display(*widgets)"
   ]
  },
  {
   "cell_type": "code",
   "execution_count": null,
   "metadata": {},
   "outputs": [],
   "source": []
  }
 ],
 "metadata": {
  "kernelspec": {
   "display_name": "Python 3 (ipykernel)",
   "language": "python",
   "name": "python3"
  },
  "language_info": {
   "codemirror_mode": {
    "name": "ipython",
    "version": 3
   },
   "file_extension": ".py",
   "mimetype": "text/x-python",
   "name": "python",
   "nbconvert_exporter": "python",
   "pygments_lexer": "ipython3",
   "version": "3.10.5"
  },
  "vscode": {
   "interpreter": {
    "hash": "2905e140123fbb01cecfd029de2077beeea6a8f3fbe05939178a9f249a8b5e91"
   }
  }
 },
 "nbformat": 4,
 "nbformat_minor": 4
}
