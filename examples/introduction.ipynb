{
 "cells": [
  {
   "cell_type": "markdown",
   "metadata": {},
   "source": [
    "# Introduction"
   ]
  },
  {
   "cell_type": "code",
   "execution_count": 1,
   "metadata": {},
   "outputs": [],
   "source": [
    "# handle launching on colab\n",
    "if \"google.colab\" in str(get_ipython()):\n",
    "    # running on CoLab\n",
    "    %pip install -U \"ipylabel>=0.1.7\"\n",
    "\n",
    "    from google.colab import output\n",
    "\n",
    "    output.enable_custom_widget_manager()"
   ]
  },
  {
   "cell_type": "code",
   "execution_count": 2,
   "metadata": {},
   "outputs": [],
   "source": [
    "from __future__ import annotations\n",
    "\n",
    "from ipywidgets import Output\n",
    "\n",
    "import ipylabel"
   ]
  },
  {
   "cell_type": "markdown",
   "metadata": {},
   "source": [
    "## basic example"
   ]
  },
  {
   "cell_type": "code",
   "execution_count": 3,
   "metadata": {},
   "outputs": [
    {
     "data": {
      "application/vnd.jupyter.widget-view+json": {
       "model_id": "caa5531abe9a45ebab86ee55fde9e279",
       "version_major": 2,
       "version_minor": 0
      },
      "text/plain": [
       "TextWidget(colors=['#ff0000', '#00ff00', '#0000ff', '#f0f0ff'], labels=['protein', 'DNA', 'RNA', 'Also NO'], r…"
      ]
     },
     "metadata": {},
     "output_type": "display_data"
    }
   ],
   "source": [
    "text_widget = ipylabel.TextWidget(\n",
    "    text=\"Мама мыла раму\",\n",
    "    labels=[\"protein\", \"DNA\", \"RNA\", \"Also NO\"],\n",
    "    colors=[\"#ff0000\", \"#00ff00\", \"#0000ff\", \"#f0f0ff\"],\n",
    "    result=[{\"start\": 0, \"end\": 5, \"label\": \"DNA\"}],\n",
    ")\n",
    "\n",
    "text_widget.observe(lambda c: print(c), [\"result\", \"finished\"])\n",
    "text_widget"
   ]
  },
  {
   "cell_type": "markdown",
   "metadata": {
    "tags": []
   },
   "source": [
    "## if outout of observed isn't rendered"
   ]
  },
  {
   "cell_type": "code",
   "execution_count": 4,
   "metadata": {},
   "outputs": [
    {
     "data": {
      "application/vnd.jupyter.widget-view+json": {
       "model_id": "a2722fc42ec5423dbc36e6a1ee794647",
       "version_major": 2,
       "version_minor": 0
      },
      "text/plain": [
       "TextWidget(colors=['#ff0000', '#00ff00', '#0000ff', '#f0f0ff'], labels=['protein', 'DNA', 'RNA', 'Also NO'], r…"
      ]
     },
     "metadata": {},
     "output_type": "display_data"
    },
    {
     "data": {
      "application/vnd.jupyter.widget-view+json": {
       "model_id": "610c9b98846247a1a66bf5770acbc256",
       "version_major": 2,
       "version_minor": 0
      },
      "text/plain": [
       "Output()"
      ]
     },
     "metadata": {},
     "output_type": "display_data"
    }
   ],
   "source": [
    "output = Output()\n",
    "\n",
    "text_widget_2 = ipylabel.TextWidget(\n",
    "    text=\"Мама мыла раму\",\n",
    "    labels=[\"protein\", \"DNA\", \"RNA\", \"Also NO\"],\n",
    "    colors=[\"#ff0000\", \"#00ff00\", \"#0000ff\", \"#f0f0ff\"],\n",
    "    result=[{\"start\": 0, \"end\": 5, \"label\": \"DNA\"}],\n",
    ")\n",
    "\n",
    "@output.capture()\n",
    "def finished_and_res_changed(change):\n",
    "    # print(\"Value changed to\", change)\n",
    "    if change[\"name\"] == \"finished\" and change[\"new\"]:\n",
    "        answer = None\n",
    "    else:\n",
    "        answer = change[\"owner\"].result\n",
    "    print(answer)\n",
    "\n",
    "text_widget_2.observe(finished_and_res_changed, [\"result\", \"finished\"])\n",
    "display(text_widget_2, output)"
   ]
  },
  {
   "cell_type": "code",
   "execution_count": null,
   "metadata": {},
   "outputs": [],
   "source": []
  }
 ],
 "metadata": {
  "kernelspec": {
   "display_name": "Python 3 (ipykernel)",
   "language": "python",
   "name": "python3"
  },
  "language_info": {
   "codemirror_mode": {
    "name": "ipython",
    "version": 3
   },
   "file_extension": ".py",
   "mimetype": "text/x-python",
   "name": "python",
   "nbconvert_exporter": "python",
   "pygments_lexer": "ipython3",
   "version": "3.10.5"
  },
  "vscode": {
   "interpreter": {
    "hash": "2905e140123fbb01cecfd029de2077beeea6a8f3fbe05939178a9f249a8b5e91"
   }
  },
  "widgets": {
   "application/vnd.jupyter.widget-state+json": {
    "state": {
     "1699a70d3bfc49deb5f5a3e41c9f7823": {
      "model_module": "@jupyter-widgets/base",
      "model_module_version": "1.2.0",
      "model_name": "LayoutModel",
      "state": {}
     },
     "47fa6faf53c4421d93749a5eb0169933": {
      "model_module": "@jupyter-widgets/base",
      "model_module_version": "1.2.0",
      "model_name": "LayoutModel",
      "state": {}
     },
     "610c9b98846247a1a66bf5770acbc256": {
      "model_module": "@jupyter-widgets/output",
      "model_module_version": "1.0.0",
      "model_name": "OutputModel",
      "state": {
       "layout": "IPY_MODEL_b537d064516e44c0bd4b30a5191df4cc"
      }
     },
     "a2722fc42ec5423dbc36e6a1ee794647": {
      "model_module": "ipylabel",
      "model_module_version": "^0.1.7",
      "model_name": "TextLabelingModel",
      "state": {
       "_model_module_version": "^0.1.7",
       "_view_module_version": "^0.1.7",
       "colors": [
        "#ff0000",
        "#00ff00",
        "#0000ff",
        "#f0f0ff"
       ],
       "finished": false,
       "labels": [
        "protein",
        "DNA",
        "RNA",
        "Also NO"
       ],
       "layout": "IPY_MODEL_1699a70d3bfc49deb5f5a3e41c9f7823",
       "result": [
        {
         "end": 5,
         "label": "DNA",
         "start": 0
        }
       ],
       "text": "Мама мыла раму"
      }
     },
     "b537d064516e44c0bd4b30a5191df4cc": {
      "model_module": "@jupyter-widgets/base",
      "model_module_version": "1.2.0",
      "model_name": "LayoutModel",
      "state": {}
     },
     "caa5531abe9a45ebab86ee55fde9e279": {
      "model_module": "ipylabel",
      "model_module_version": "^0.1.7",
      "model_name": "TextLabelingModel",
      "state": {
       "_model_module_version": "^0.1.7",
       "_view_module_version": "^0.1.7",
       "colors": [
        "#ff0000",
        "#00ff00",
        "#0000ff",
        "#f0f0ff"
       ],
       "finished": false,
       "labels": [
        "protein",
        "DNA",
        "RNA",
        "Also NO"
       ],
       "layout": "IPY_MODEL_47fa6faf53c4421d93749a5eb0169933",
       "result": [
        {
         "end": 5,
         "label": "DNA",
         "start": 0
        }
       ],
       "text": "Мама мыла раму"
      }
     }
    },
    "version_major": 2,
    "version_minor": 0
   }
  }
 },
 "nbformat": 4,
 "nbformat_minor": 4
}
