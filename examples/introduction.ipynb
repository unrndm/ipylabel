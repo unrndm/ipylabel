{
 "cells": [
  {
   "cell_type": "markdown",
   "metadata": {},
   "source": [
    "# Introduction"
   ]
  },
  {
   "cell_type": "code",
   "execution_count": 1,
   "metadata": {},
   "outputs": [],
   "source": [
    "# handle launching on colab\n",
    "if \"google.colab\" in str(get_ipython()):\n",
    "    # running on CoLab\n",
    "    %pip install -U \"ipylabel>=0.1.4\"\n",
    "\n",
    "    from google.colab import output\n",
    "\n",
    "    output.enable_custom_widget_manager()"
   ]
  },
  {
   "cell_type": "code",
   "execution_count": 2,
   "metadata": {},
   "outputs": [],
   "source": [
    "from __future__ import annotations\n",
    "\n",
    "import ipylabel"
   ]
  },
  {
   "cell_type": "code",
   "execution_count": 3,
   "metadata": {},
   "outputs": [
    {
     "data": {
      "application/vnd.jupyter.widget-view+json": {
       "model_id": "aa39f848da28409d97c96e2598729ed3",
       "version_major": 2,
       "version_minor": 0
      },
      "text/plain": [
       "TextWidget(colors=['#ff0000', '#00ff00', '#0000ff'], labels=['protein', 'DNA', 'RNA'], result=[{'start': 0, 'e…"
      ]
     },
     "metadata": {},
     "output_type": "display_data"
    }
   ],
   "source": [
    "text_widget = ipylabel.TextWidget(\n",
    "    text=\"Мама мыла раму\",\n",
    "    labels=[\"protein\", \"DNA\", \"RNA\"],\n",
    "    colors=[\"#ff0000\", \"#00ff00\", \"#0000ff\"],\n",
    "    result=[{\"start\": 0, \"end\": 5, \"label\": \"DNA\"}],\n",
    ")\n",
    "\n",
    "text_widget.observe(lambda c: print(c), [\"result\", \"finished\"])\n",
    "text_widget"
   ]
  },
  {
   "cell_type": "code",
   "execution_count": 4,
   "metadata": {},
   "outputs": [],
   "source": [
    "text_widget.result.append({\"start\": 6, \"end\": 8, \"label\": \"ALso NO\"})"
   ]
  },
  {
   "cell_type": "code",
   "execution_count": 5,
   "metadata": {},
   "outputs": [
    {
     "data": {
      "application/vnd.jupyter.widget-view+json": {
       "model_id": "681d5ec2b5c94a4abbaa5c4875383d58",
       "version_major": 2,
       "version_minor": 0
      },
      "text/plain": [
       "TextWidget(colors=['#ff0000', '#00ff00', '#0000ff'], labels=['protein', 'DNA', 'RNA'], result=[{'start': 0, 'e…"
      ]
     },
     "metadata": {},
     "output_type": "display_data"
    },
    {
     "data": {
      "application/vnd.jupyter.widget-view+json": {
       "model_id": "6c5f2224b73a476f872e01be227a3096",
       "version_major": 2,
       "version_minor": 0
      },
      "text/plain": [
       "TextWidget(colors=['#ff0000', '#00ff00', '#0000ff'], labels=['protein', 'DNA', 'RNA'], result=[{'start': 0, 'e…"
      ]
     },
     "metadata": {},
     "output_type": "display_data"
    },
    {
     "data": {
      "application/vnd.jupyter.widget-view+json": {
       "model_id": "2e5acdb9a357419d9b915c728bc1ed72",
       "version_major": 2,
       "version_minor": 0
      },
      "text/plain": [
       "TextWidget(colors=['#ff0000', '#00ff00', '#0000ff'], labels=['protein', 'DNA', 'RNA'], result=[{'start': 0, 'e…"
      ]
     },
     "metadata": {},
     "output_type": "display_data"
    },
    {
     "data": {
      "application/vnd.jupyter.widget-view+json": {
       "model_id": "2765c7254edf4512b433892f5b663c0c",
       "version_major": 2,
       "version_minor": 0
      },
      "text/plain": [
       "TextWidget(colors=['#ff0000', '#00ff00', '#0000ff'], labels=['protein', 'DNA', 'RNA'], result=[{'start': 0, 'e…"
      ]
     },
     "metadata": {},
     "output_type": "display_data"
    },
    {
     "data": {
      "application/vnd.jupyter.widget-view+json": {
       "model_id": "ba7bf57bb48544c3983f734c2827545d",
       "version_major": 2,
       "version_minor": 0
      },
      "text/plain": [
       "TextWidget(colors=['#ff0000', '#00ff00', '#0000ff'], labels=['protein', 'DNA', 'RNA'], result=[{'start': 0, 'e…"
      ]
     },
     "metadata": {},
     "output_type": "display_data"
    },
    {
     "data": {
      "application/vnd.jupyter.widget-view+json": {
       "model_id": "8cbc43dc8e4a4e2cb7a162cd53b274a5",
       "version_major": 2,
       "version_minor": 0
      },
      "text/plain": [
       "TextWidget(colors=['#ff0000', '#00ff00', '#0000ff'], labels=['protein', 'DNA', 'RNA'], result=[{'start': 0, 'e…"
      ]
     },
     "metadata": {},
     "output_type": "display_data"
    },
    {
     "data": {
      "application/vnd.jupyter.widget-view+json": {
       "model_id": "ddf77555e68d4f9eb89f59983a01f936",
       "version_major": 2,
       "version_minor": 0
      },
      "text/plain": [
       "TextWidget(colors=['#ff0000', '#00ff00', '#0000ff'], labels=['protein', 'DNA', 'RNA'], result=[{'start': 0, 'e…"
      ]
     },
     "metadata": {},
     "output_type": "display_data"
    },
    {
     "data": {
      "application/vnd.jupyter.widget-view+json": {
       "model_id": "054bb77269c14b2f884cbe60374fee1d",
       "version_major": 2,
       "version_minor": 0
      },
      "text/plain": [
       "TextWidget(colors=['#ff0000', '#00ff00', '#0000ff'], labels=['protein', 'DNA', 'RNA'], result=[{'start': 0, 'e…"
      ]
     },
     "metadata": {},
     "output_type": "display_data"
    },
    {
     "data": {
      "application/vnd.jupyter.widget-view+json": {
       "model_id": "58d92661d5ce46c1b6cf9d915e1cce2f",
       "version_major": 2,
       "version_minor": 0
      },
      "text/plain": [
       "TextWidget(colors=['#ff0000', '#00ff00', '#0000ff'], labels=['protein', 'DNA', 'RNA'], result=[{'start': 0, 'e…"
      ]
     },
     "metadata": {},
     "output_type": "display_data"
    },
    {
     "data": {
      "application/vnd.jupyter.widget-view+json": {
       "model_id": "5be638fe4b634c439d6cb328b3874b71",
       "version_major": 2,
       "version_minor": 0
      },
      "text/plain": [
       "TextWidget(colors=['#ff0000', '#00ff00', '#0000ff'], labels=['protein', 'DNA', 'RNA'], result=[{'start': 0, 'e…"
      ]
     },
     "metadata": {},
     "output_type": "display_data"
    }
   ],
   "source": [
    "widgets = [\n",
    "    ipylabel.TextWidget(\n",
    "        text=\"Мама мыла раму\",\n",
    "        labels=[\"protein\", \"DNA\", \"RNA\"],\n",
    "        colors=[\"#ff0000\", \"#00ff00\", \"#0000ff\"],\n",
    "        result=[{\"start\": 0, \"end\": 5, \"label\": \"DNA\"}],\n",
    "    )\n",
    "    for _ in range(10)\n",
    "]\n",
    "display(*widgets)"
   ]
  },
  {
   "cell_type": "code",
   "execution_count": null,
   "metadata": {},
   "outputs": [],
   "source": []
  }
 ],
 "metadata": {
  "kernelspec": {
   "display_name": "Python 3 (ipykernel)",
   "language": "python",
   "name": "python3"
  },
  "language_info": {
   "codemirror_mode": {
    "name": "ipython",
    "version": 3
   },
   "file_extension": ".py",
   "mimetype": "text/x-python",
   "name": "python",
   "nbconvert_exporter": "python",
   "pygments_lexer": "ipython3",
   "version": "3.10.5"
  },
  "vscode": {
   "interpreter": {
    "hash": "2905e140123fbb01cecfd029de2077beeea6a8f3fbe05939178a9f249a8b5e91"
   }
  },
  "widgets": {
   "application/vnd.jupyter.widget-state+json": {
    "state": {
     "054bb77269c14b2f884cbe60374fee1d": {
      "model_module": "ipylabel",
      "model_module_version": "^0.1.4",
      "model_name": "TextLabelingModel",
      "state": {
       "_model_module_version": "^0.1.4",
       "_view_module_version": "^0.1.4",
       "colors": [
        "#ff0000",
        "#00ff00",
        "#0000ff"
       ],
       "finished": false,
       "labels": [
        "protein",
        "DNA",
        "RNA"
       ],
       "layout": "IPY_MODEL_245a270f51e34005a6f3354b1ed28184",
       "result": [
        {
         "end": 5,
         "label": "DNA",
         "start": 0
        }
       ],
       "text": "Мама мыла раму"
      }
     },
     "245a270f51e34005a6f3354b1ed28184": {
      "model_module": "@jupyter-widgets/base",
      "model_module_version": "1.2.0",
      "model_name": "LayoutModel",
      "state": {}
     },
     "2765c7254edf4512b433892f5b663c0c": {
      "model_module": "ipylabel",
      "model_module_version": "^0.1.4",
      "model_name": "TextLabelingModel",
      "state": {
       "_model_module_version": "^0.1.4",
       "_view_module_version": "^0.1.4",
       "colors": [
        "#ff0000",
        "#00ff00",
        "#0000ff"
       ],
       "finished": false,
       "labels": [
        "protein",
        "DNA",
        "RNA"
       ],
       "layout": "IPY_MODEL_7183eb43ec3a4a2ab6ade436bbd9b7cc",
       "result": [
        {
         "end": 5,
         "label": "DNA",
         "start": 0
        }
       ],
       "text": "Мама мыла раму"
      }
     },
     "2e5acdb9a357419d9b915c728bc1ed72": {
      "model_module": "ipylabel",
      "model_module_version": "^0.1.4",
      "model_name": "TextLabelingModel",
      "state": {
       "_model_module_version": "^0.1.4",
       "_view_module_version": "^0.1.4",
       "colors": [
        "#ff0000",
        "#00ff00",
        "#0000ff"
       ],
       "finished": false,
       "labels": [
        "protein",
        "DNA",
        "RNA"
       ],
       "layout": "IPY_MODEL_87e7922f538047258fd384d316242aaf",
       "result": [
        {
         "end": 5,
         "label": "DNA",
         "start": 0
        }
       ],
       "text": "Мама мыла раму"
      }
     },
     "375eeb44c7094963b54e089bb7a50f87": {
      "model_module": "@jupyter-widgets/base",
      "model_module_version": "1.2.0",
      "model_name": "LayoutModel",
      "state": {}
     },
     "588b6536ae8542e69161995bff9a2af5": {
      "model_module": "@jupyter-widgets/base",
      "model_module_version": "1.2.0",
      "model_name": "LayoutModel",
      "state": {}
     },
     "58d92661d5ce46c1b6cf9d915e1cce2f": {
      "model_module": "ipylabel",
      "model_module_version": "^0.1.4",
      "model_name": "TextLabelingModel",
      "state": {
       "_model_module_version": "^0.1.4",
       "_view_module_version": "^0.1.4",
       "colors": [
        "#ff0000",
        "#00ff00",
        "#0000ff"
       ],
       "finished": false,
       "labels": [
        "protein",
        "DNA",
        "RNA"
       ],
       "layout": "IPY_MODEL_fa6f9c168a424284946911aaf37775a1",
       "result": [
        {
         "end": 5,
         "label": "DNA",
         "start": 0
        }
       ],
       "text": "Мама мыла раму"
      }
     },
     "5be638fe4b634c439d6cb328b3874b71": {
      "model_module": "ipylabel",
      "model_module_version": "^0.1.4",
      "model_name": "TextLabelingModel",
      "state": {
       "_model_module_version": "^0.1.4",
       "_view_module_version": "^0.1.4",
       "colors": [
        "#ff0000",
        "#00ff00",
        "#0000ff"
       ],
       "finished": false,
       "labels": [
        "protein",
        "DNA",
        "RNA"
       ],
       "layout": "IPY_MODEL_ebdcb1fd56f0412d81c75b6adf7e4ed2",
       "result": [
        {
         "end": 5,
         "label": "DNA",
         "start": 0
        }
       ],
       "text": "Мама мыла раму"
      }
     },
     "681d5ec2b5c94a4abbaa5c4875383d58": {
      "model_module": "ipylabel",
      "model_module_version": "^0.1.4",
      "model_name": "TextLabelingModel",
      "state": {
       "_model_module_version": "^0.1.4",
       "_view_module_version": "^0.1.4",
       "colors": [
        "#ff0000",
        "#00ff00",
        "#0000ff"
       ],
       "finished": false,
       "labels": [
        "protein",
        "DNA",
        "RNA"
       ],
       "layout": "IPY_MODEL_8b4ec5abc0af4b639b23806d955dda51",
       "result": [
        {
         "end": 5,
         "label": "DNA",
         "start": 0
        }
       ],
       "text": "Мама мыла раму"
      }
     },
     "6c5f2224b73a476f872e01be227a3096": {
      "model_module": "ipylabel",
      "model_module_version": "^0.1.4",
      "model_name": "TextLabelingModel",
      "state": {
       "_model_module_version": "^0.1.4",
       "_view_module_version": "^0.1.4",
       "colors": [
        "#ff0000",
        "#00ff00",
        "#0000ff"
       ],
       "finished": false,
       "labels": [
        "protein",
        "DNA",
        "RNA"
       ],
       "layout": "IPY_MODEL_716b6ab7541a4566860092f1a2ebac9f",
       "result": [
        {
         "end": 5,
         "label": "DNA",
         "start": 0
        }
       ],
       "text": "Мама мыла раму"
      }
     },
     "716b6ab7541a4566860092f1a2ebac9f": {
      "model_module": "@jupyter-widgets/base",
      "model_module_version": "1.2.0",
      "model_name": "LayoutModel",
      "state": {}
     },
     "7183eb43ec3a4a2ab6ade436bbd9b7cc": {
      "model_module": "@jupyter-widgets/base",
      "model_module_version": "1.2.0",
      "model_name": "LayoutModel",
      "state": {}
     },
     "838990473f954311ac8c0e0652914221": {
      "model_module": "@jupyter-widgets/base",
      "model_module_version": "1.2.0",
      "model_name": "LayoutModel",
      "state": {}
     },
     "87e7922f538047258fd384d316242aaf": {
      "model_module": "@jupyter-widgets/base",
      "model_module_version": "1.2.0",
      "model_name": "LayoutModel",
      "state": {}
     },
     "8b4ec5abc0af4b639b23806d955dda51": {
      "model_module": "@jupyter-widgets/base",
      "model_module_version": "1.2.0",
      "model_name": "LayoutModel",
      "state": {}
     },
     "8cbc43dc8e4a4e2cb7a162cd53b274a5": {
      "model_module": "ipylabel",
      "model_module_version": "^0.1.4",
      "model_name": "TextLabelingModel",
      "state": {
       "_model_module_version": "^0.1.4",
       "_view_module_version": "^0.1.4",
       "colors": [
        "#ff0000",
        "#00ff00",
        "#0000ff"
       ],
       "finished": false,
       "labels": [
        "protein",
        "DNA",
        "RNA"
       ],
       "layout": "IPY_MODEL_c6d9efa7510f4929ad28173694e1ba68",
       "result": [
        {
         "end": 5,
         "label": "DNA",
         "start": 0
        }
       ],
       "text": "Мама мыла раму"
      }
     },
     "aa39f848da28409d97c96e2598729ed3": {
      "model_module": "ipylabel",
      "model_module_version": "^0.1.4",
      "model_name": "TextLabelingModel",
      "state": {
       "_model_module_version": "^0.1.4",
       "_view_module_version": "^0.1.4",
       "colors": [
        "#ff0000",
        "#00ff00",
        "#0000ff"
       ],
       "finished": false,
       "labels": [
        "protein",
        "DNA",
        "RNA"
       ],
       "layout": "IPY_MODEL_375eeb44c7094963b54e089bb7a50f87",
       "result": [
        {
         "end": 5,
         "label": "DNA",
         "start": 0
        }
       ],
       "text": "Мама мыла раму"
      }
     },
     "ba7bf57bb48544c3983f734c2827545d": {
      "model_module": "ipylabel",
      "model_module_version": "^0.1.4",
      "model_name": "TextLabelingModel",
      "state": {
       "_model_module_version": "^0.1.4",
       "_view_module_version": "^0.1.4",
       "colors": [
        "#ff0000",
        "#00ff00",
        "#0000ff"
       ],
       "finished": false,
       "labels": [
        "protein",
        "DNA",
        "RNA"
       ],
       "layout": "IPY_MODEL_588b6536ae8542e69161995bff9a2af5",
       "result": [
        {
         "end": 5,
         "label": "DNA",
         "start": 0
        }
       ],
       "text": "Мама мыла раму"
      }
     },
     "c6d9efa7510f4929ad28173694e1ba68": {
      "model_module": "@jupyter-widgets/base",
      "model_module_version": "1.2.0",
      "model_name": "LayoutModel",
      "state": {}
     },
     "ddf77555e68d4f9eb89f59983a01f936": {
      "model_module": "ipylabel",
      "model_module_version": "^0.1.4",
      "model_name": "TextLabelingModel",
      "state": {
       "_model_module_version": "^0.1.4",
       "_view_module_version": "^0.1.4",
       "colors": [
        "#ff0000",
        "#00ff00",
        "#0000ff"
       ],
       "finished": false,
       "labels": [
        "protein",
        "DNA",
        "RNA"
       ],
       "layout": "IPY_MODEL_838990473f954311ac8c0e0652914221",
       "result": [
        {
         "end": 5,
         "label": "DNA",
         "start": 0
        }
       ],
       "text": "Мама мыла раму"
      }
     },
     "ebdcb1fd56f0412d81c75b6adf7e4ed2": {
      "model_module": "@jupyter-widgets/base",
      "model_module_version": "1.2.0",
      "model_name": "LayoutModel",
      "state": {}
     },
     "fa6f9c168a424284946911aaf37775a1": {
      "model_module": "@jupyter-widgets/base",
      "model_module_version": "1.2.0",
      "model_name": "LayoutModel",
      "state": {}
     }
    },
    "version_major": 2,
    "version_minor": 0
   }
  }
 },
 "nbformat": 4,
 "nbformat_minor": 4
}
