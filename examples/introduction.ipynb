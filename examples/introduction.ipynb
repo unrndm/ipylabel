{
 "cells": [
  {
   "cell_type": "markdown",
   "metadata": {},
   "source": [
    "# Introduction"
   ]
  },
  {
   "cell_type": "code",
   "execution_count": 39,
   "metadata": {},
   "outputs": [
    {
     "name": "stdout",
     "output_type": "stream",
     "text": [
      "Collecting distinctipy\n",
      "  Downloading distinctipy-1.2.2-py3-none-any.whl (25 kB)\n",
      "Collecting numpy\n",
      "  Downloading numpy-1.23.3-cp310-cp310-manylinux_2_17_x86_64.manylinux2014_x86_64.whl (17.1 MB)\n",
      "\u001b[2K     \u001b[38;2;114;156;31m━━━━━━━━━━━━━━━━━━━━━━━━━━━━━━━━━━━━━━━━\u001b[0m \u001b[32m17.1/17.1 MB\u001b[0m \u001b[31m9.6 MB/s\u001b[0m eta \u001b[36m0:00:00\u001b[0m0m eta \u001b[36m0:00:01\u001b[0m[36m0:00:01\u001b[0m\n",
      "\u001b[?25hInstalling collected packages: numpy, distinctipy\n",
      "Successfully installed distinctipy-1.2.2 numpy-1.23.3\n",
      "Note: you may need to restart the kernel to use updated packages.\n"
     ]
    }
   ],
   "source": [
    "%pip install distinctipy"
   ]
  },
  {
   "cell_type": "code",
   "execution_count": 1,
   "metadata": {},
   "outputs": [],
   "source": [
    "# handle launching on colab\n",
    "if 'google.colab' in str(get_ipython()):\n",
    "  # running on CoLab\n",
    "  %pip install -U \"ipylabel>=0.1.4\"\n",
    "\n",
    "  from google.colab import output\n",
    "  output.enable_custom_widget_manager()"
   ]
  },
  {
   "cell_type": "code",
   "execution_count": 2,
   "metadata": {},
   "outputs": [],
   "source": [
    "import ipylabel"
   ]
  },
  {
   "cell_type": "code",
   "execution_count": 3,
   "metadata": {},
   "outputs": [
    {
     "data": {
      "application/vnd.jupyter.widget-view+json": {
       "model_id": "a6443fb24e8e487db7ae094f304a9c37",
       "version_major": 2,
       "version_minor": 0
      },
      "text/plain": [
       "TextWidget(colors=['#ff0000', '#00ff00', '#0000ff'], labels=['protein', 'DNA', 'RNA'], text='Мама мыла раму')"
      ]
     },
     "metadata": {},
     "output_type": "display_data"
    }
   ],
   "source": [
    "text_widget = ipylabel.TextWidget(\n",
    "    text=\"Мама мыла раму\",\n",
    "    labels=[\"protein\", \"DNA\", \"RNA\"],\n",
    "    colors=[\"#ff0000\", \"#00ff00\", \"#0000ff\"],\n",
    ")\n",
    "text_widget"
   ]
  },
  {
   "cell_type": "markdown",
   "metadata": {},
   "source": [
    "# Examples of use:"
   ]
  },
  {
   "cell_type": "markdown",
   "metadata": {},
   "source": [
    "## Extend widget"
   ]
  },
  {
   "cell_type": "code",
   "execution_count": 26,
   "metadata": {},
   "outputs": [
    {
     "data": {
      "application/vnd.jupyter.widget-view+json": {
       "model_id": "39e6ae8bb3ac4131bc3d8ca2b5808e44",
       "version_major": 2,
       "version_minor": 0
      },
      "text/plain": [
       "MyExtendedWidget(colors=['#ff0000', '#00ff00', '#0000ff'], labels=['protein', 'DNA', 'RNA'], text='Мама мыла р…"
      ]
     },
     "metadata": {},
     "output_type": "display_data"
    },
    {
     "data": {
      "application/vnd.jupyter.widget-view+json": {
       "model_id": "f75971b31ac64714b34f799e6371be67",
       "version_major": 2,
       "version_minor": 0
      },
      "text/plain": [
       "Output()"
      ]
     },
     "metadata": {},
     "output_type": "display_data"
    }
   ],
   "source": [
    "from traitlets import observe\n",
    "from ipywidgets import Output\n",
    "\n",
    "output = Output()\n",
    "\n",
    "class MyExtendedWidget(ipylabel.TextWidget):\n",
    "  def __init__(self, name: str, *args, **kwargs):\n",
    "    super().__init__(**kwargs)\n",
    "    self.name = name\n",
    "  \n",
    "  @observe('finished')\n",
    "  @output.capture()\n",
    "  def _finished_changed(self, change):\n",
    "    print(\"Value changed to\", change)\n",
    "    self.name = change[\"new\"]\n",
    "    print(\"name changed to\", self.name)\n",
    "    \n",
    "\n",
    "my_extended_widget = MyExtendedWidget(\n",
    "  \"first widget\",\n",
    "  text=\"Мама мыла раму\",\n",
    "  labels=[\"protein\", \"DNA\", \"RNA\"],\n",
    "  colors=[\"#ff0000\", \"#00ff00\", \"#0000ff\"]\n",
    ")\n",
    "display(my_extended_widget, output)"
   ]
  },
  {
   "cell_type": "code",
   "execution_count": 57,
   "metadata": {},
   "outputs": [
    {
     "data": {
      "application/vnd.jupyter.widget-view+json": {
       "model_id": "d456b31ab14c4cd28fa32ab1b110f5b4",
       "version_major": 2,
       "version_minor": 0
      },
      "text/plain": [
       "MyAdvancedExtendedWidget(colors=['#00ff00', '#ff00ff', '#0080ff', '#ff8000', '#80bf80'], labels=['protein', 'D…"
      ]
     },
     "metadata": {},
     "output_type": "display_data"
    },
    {
     "data": {
      "application/vnd.jupyter.widget-view+json": {
       "model_id": "8f9ffa9c53a74346941f6311b11fb938",
       "version_major": 2,
       "version_minor": 0
      },
      "text/plain": [
       "Output()"
      ]
     },
     "metadata": {},
     "output_type": "display_data"
    }
   ],
   "source": [
    "from traitlets import observe, default\n",
    "from ipywidgets import Output\n",
    "from distinctipy import distinctipy\n",
    "\n",
    "output = Output()\n",
    "\n",
    "class MyAdvancedExtendedWidget(ipylabel.TextWidget):\n",
    "  def __init__(self, name: str, *args, **kwargs):\n",
    "    super().__init__(**kwargs)\n",
    "    self.name = name\n",
    "  \n",
    "  @default(\"colors\")\n",
    "  def get_colors_default(self):\n",
    "    # conversion taken from https://github.com/matplotlib/matplotlib/blob/v3.5.3/lib/matplotlib/colors.py#L389-L408\n",
    "    return [\"#\" + \"\".join(format(int(round(val * 255)), \"02x\") for val in c) for c in distinctipy.get_colors(len(self.labels), rng=42)]\n",
    "    \n",
    "  \n",
    "  @observe('finished')\n",
    "  @output.capture()\n",
    "  def _finished_changed(self, change):\n",
    "    print(\"Value changed to\", change)\n",
    "    self.name = change[\"new\"]\n",
    "    print(\"name changed to\", self.name)\n",
    "    \n",
    "\n",
    "my_advanced_extended_widget = MyAdvancedExtendedWidget(\n",
    "  \"first widget\",\n",
    "  text=\"Мама мыла раму\",\n",
    "  labels=[\"protein\", \"DNA\", \"RNA\", \"RNA2\", \"RNA3\"],\n",
    ")\n",
    "display(my_advanced_extended_widget, output)"
   ]
  },
  {
   "cell_type": "markdown",
   "metadata": {},
   "source": [
    "## Wrap around widget"
   ]
  },
  {
   "cell_type": "code",
   "execution_count": 35,
   "metadata": {},
   "outputs": [
    {
     "data": {
      "application/vnd.jupyter.widget-view+json": {
       "model_id": "cc2f065c8667444a8c88c38a44d20cdc",
       "version_major": 2,
       "version_minor": 0
      },
      "text/plain": [
       "TextWidget(colors=['#ff0000', '#00ff00', '#0000ff'], labels=['protein', 'DNA', 'RNA'], text='Мама мыла раму')"
      ]
     },
     "metadata": {},
     "output_type": "display_data"
    },
    {
     "data": {
      "application/vnd.jupyter.widget-view+json": {
       "model_id": "44e94e6102074959b04725d71141f00b",
       "version_major": 2,
       "version_minor": 0
      },
      "text/plain": [
       "Output()"
      ]
     },
     "metadata": {},
     "output_type": "display_data"
    }
   ],
   "source": [
    "from traitlets import observe\n",
    "from ipywidgets import Output\n",
    "\n",
    "output = Output()\n",
    "\n",
    "class MyWrappedWidget:\n",
    "  def __init__(self,\n",
    "    name: str,\n",
    "    text: str,\n",
    "    labels: list[str],\n",
    "    colors: list[str],\n",
    "  ):\n",
    "    self.name = name\n",
    "    self.widget = ipylabel.TextWidget(text=text, labels=labels, colors=colors)\n",
    "    self.widget.observe(self._finished_changed, \"finished\")\n",
    "  \n",
    "  @output.capture()\n",
    "  def _finished_changed(self, change):\n",
    "    print(\"Value changed to\", change)\n",
    "    self.name = change[\"new\"]\n",
    "    print(\"name changed to\", self.name)\n",
    "  \n",
    "my_wrapped_widget = MyWrappedWidget(\n",
    "  \"first widget\",\n",
    "  text=\"Мама мыла раму\",\n",
    "  labels=[\"protein\", \"DNA\", \"RNA\"],\n",
    "  colors=[\"#ff0000\", \"#00ff00\", \"#0000ff\"]\n",
    ")\n",
    "display(my_wrapped_widget.widget, output)"
   ]
  },
  {
   "cell_type": "code",
   "execution_count": 34,
   "metadata": {},
   "outputs": [
    {
     "data": {
      "application/vnd.jupyter.widget-view+json": {
       "model_id": "67d007edcf7d472983a5d775e9fac586",
       "version_major": 2,
       "version_minor": 0
      },
      "text/plain": [
       "TextWidget(colors=['#ff0000', '#00ff00', '#0000ff'], labels=['protein', 'DNA', 'RNA'], text='Мама мыла раму')"
      ]
     },
     "metadata": {},
     "output_type": "display_data"
    },
    {
     "data": {
      "text/plain": []
     },
     "metadata": {},
     "output_type": "display_data"
    },
    {
     "data": {
      "application/vnd.jupyter.widget-view+json": {
       "model_id": "09ed087a068b4c399551acc5db17c069",
       "version_major": 2,
       "version_minor": 0
      },
      "text/plain": [
       "Output()"
      ]
     },
     "metadata": {},
     "output_type": "display_data"
    }
   ],
   "source": [
    "from traitlets import observe\n",
    "from ipywidgets import Output\n",
    "\n",
    "output = Output()\n",
    "\n",
    "class MyAdvancedWrappedWidget:\n",
    "  def __init__(self,\n",
    "    name: str,\n",
    "    text: str,\n",
    "    labels: list[str],\n",
    "    colors: list[str],\n",
    "  ):\n",
    "    self.name = name\n",
    "    self.widget = ipylabel.TextWidget(text=text, labels=labels, colors=colors)\n",
    "    self.widget.observe(self._finished_changed, \"finished\")\n",
    "  \n",
    "  @output.capture()\n",
    "  def _finished_changed(self, change):\n",
    "    print(\"Value changed to\", change)\n",
    "    self.name = change[\"new\"]\n",
    "    print(\"name changed to\", self.name)\n",
    "  \n",
    "  def _repr_pretty_(self, pp, cycle):\n",
    "    return display(self.widget)\n",
    "\n",
    "my_advanced_wrapped_widget = MyAdvancedWrappedWidget(\n",
    "  \"first widget\",\n",
    "  text=\"Мама мыла раму\",\n",
    "  labels=[\"protein\", \"DNA\", \"RNA\"],\n",
    "  colors=[\"#ff0000\", \"#00ff00\", \"#0000ff\"]\n",
    ")\n",
    "display(my_advanced_wrapped_widget, output)"
   ]
  },
  {
   "cell_type": "code",
   "execution_count": null,
   "metadata": {},
   "outputs": [],
   "source": []
  }
 ],
 "metadata": {
  "kernelspec": {
   "display_name": "Python 3.10.5 ('ipylabel')",
   "language": "python",
   "name": "python3"
  },
  "language_info": {
   "codemirror_mode": {
    "name": "ipython",
    "version": 3
   },
   "file_extension": ".py",
   "mimetype": "text/x-python",
   "name": "python",
   "nbconvert_exporter": "python",
   "pygments_lexer": "ipython3",
   "version": "3.10.5"
  },
  "vscode": {
   "interpreter": {
    "hash": "2905e140123fbb01cecfd029de2077beeea6a8f3fbe05939178a9f249a8b5e91"
   }
  }
 },
 "nbformat": 4,
 "nbformat_minor": 4
}
