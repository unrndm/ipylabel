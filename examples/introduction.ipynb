{
 "cells": [
  {
   "cell_type": "markdown",
   "metadata": {},
   "source": [
    "# Introduction"
   ]
  },
  {
   "cell_type": "code",
   "execution_count": 1,
   "metadata": {},
   "outputs": [],
   "source": [
    "# handle launching on colab\n",
    "if \"google.colab\" in str(get_ipython()):\n",
    "    # running on CoLab\n",
    "    %pip install -U \"ipylabel>=0.1.7\"\n",
    "\n",
    "    from google.colab import output\n",
    "\n",
    "    output.enable_custom_widget_manager()"
   ]
  },
  {
   "cell_type": "code",
   "execution_count": 2,
   "metadata": {},
   "outputs": [],
   "source": [
    "from __future__ import annotations\n",
    "\n",
    "import ipylabel"
   ]
  },
  {
   "cell_type": "code",
   "execution_count": 3,
   "metadata": {},
   "outputs": [
    {
     "data": {
      "application/vnd.jupyter.widget-view+json": {
       "model_id": "1947c89ebde84034b6133370e702f6a5",
       "version_major": 2,
       "version_minor": 0
      },
      "text/plain": [
       "TextWidget(colors=['#ff0000', '#00ff00', '#0000ff', '#f0f0ff'], labels=['protein', 'DNA', 'RNA', 'Also NO'], r…"
      ]
     },
     "metadata": {},
     "output_type": "display_data"
    }
   ],
   "source": [
    "text_widget = ipylabel.TextWidget(\n",
    "    text=\"Мама мыла раму\",\n",
    "    labels=[\"protein\", \"DNA\", \"RNA\", \"Also NO\"],\n",
    "    colors=[\"#ff0000\", \"#00ff00\", \"#0000ff\", \"#f0f0ff\"],\n",
    "    result=[{\"start\": 0, \"end\": 5, \"label\": \"DNA\"}],\n",
    ")\n",
    "\n",
    "text_widget.observe(lambda c: print(c), [\"result\", \"finished\"])\n",
    "text_widget"
   ]
  },
  {
   "cell_type": "code",
   "execution_count": 4,
   "metadata": {},
   "outputs": [
    {
     "data": {
      "application/vnd.jupyter.widget-view+json": {
       "model_id": "1091c165c9db4b39a820938360d7856f",
       "version_major": 2,
       "version_minor": 0
      },
      "text/plain": [
       "TextWidget(colors=['#ff0000', '#00ff00', '#0000ff'], labels=['protein', 'DNA', 'RNA'], result=[{'start': 0, 'e…"
      ]
     },
     "metadata": {},
     "output_type": "display_data"
    },
    {
     "data": {
      "application/vnd.jupyter.widget-view+json": {
       "model_id": "b49848255d844a108b89343b29fe5919",
       "version_major": 2,
       "version_minor": 0
      },
      "text/plain": [
       "TextWidget(colors=['#ff0000', '#00ff00', '#0000ff'], labels=['protein', 'DNA', 'RNA'], result=[{'start': 0, 'e…"
      ]
     },
     "metadata": {},
     "output_type": "display_data"
    },
    {
     "data": {
      "application/vnd.jupyter.widget-view+json": {
       "model_id": "88720fc49fe04bda920b4b2c3375a031",
       "version_major": 2,
       "version_minor": 0
      },
      "text/plain": [
       "TextWidget(colors=['#ff0000', '#00ff00', '#0000ff'], labels=['protein', 'DNA', 'RNA'], result=[{'start': 0, 'e…"
      ]
     },
     "metadata": {},
     "output_type": "display_data"
    },
    {
     "data": {
      "application/vnd.jupyter.widget-view+json": {
       "model_id": "9c62d4ea42cd4a22a5d2baec3de94191",
       "version_major": 2,
       "version_minor": 0
      },
      "text/plain": [
       "TextWidget(colors=['#ff0000', '#00ff00', '#0000ff'], labels=['protein', 'DNA', 'RNA'], result=[{'start': 0, 'e…"
      ]
     },
     "metadata": {},
     "output_type": "display_data"
    },
    {
     "data": {
      "application/vnd.jupyter.widget-view+json": {
       "model_id": "fcf590a040e046d59463503ba04a1a1f",
       "version_major": 2,
       "version_minor": 0
      },
      "text/plain": [
       "TextWidget(colors=['#ff0000', '#00ff00', '#0000ff'], labels=['protein', 'DNA', 'RNA'], result=[{'start': 0, 'e…"
      ]
     },
     "metadata": {},
     "output_type": "display_data"
    },
    {
     "data": {
      "application/vnd.jupyter.widget-view+json": {
       "model_id": "40a1bd336af44a378fc32d1c6151a14f",
       "version_major": 2,
       "version_minor": 0
      },
      "text/plain": [
       "TextWidget(colors=['#ff0000', '#00ff00', '#0000ff'], labels=['protein', 'DNA', 'RNA'], result=[{'start': 0, 'e…"
      ]
     },
     "metadata": {},
     "output_type": "display_data"
    },
    {
     "data": {
      "application/vnd.jupyter.widget-view+json": {
       "model_id": "b72862f257784f35a25e54755063bff0",
       "version_major": 2,
       "version_minor": 0
      },
      "text/plain": [
       "TextWidget(colors=['#ff0000', '#00ff00', '#0000ff'], labels=['protein', 'DNA', 'RNA'], result=[{'start': 0, 'e…"
      ]
     },
     "metadata": {},
     "output_type": "display_data"
    },
    {
     "data": {
      "application/vnd.jupyter.widget-view+json": {
       "model_id": "771de2a8afff4b8cae81f3a110a410fc",
       "version_major": 2,
       "version_minor": 0
      },
      "text/plain": [
       "TextWidget(colors=['#ff0000', '#00ff00', '#0000ff'], labels=['protein', 'DNA', 'RNA'], result=[{'start': 0, 'e…"
      ]
     },
     "metadata": {},
     "output_type": "display_data"
    },
    {
     "data": {
      "application/vnd.jupyter.widget-view+json": {
       "model_id": "5e08a6fff4654d978b4d0477c0669ec1",
       "version_major": 2,
       "version_minor": 0
      },
      "text/plain": [
       "TextWidget(colors=['#ff0000', '#00ff00', '#0000ff'], labels=['protein', 'DNA', 'RNA'], result=[{'start': 0, 'e…"
      ]
     },
     "metadata": {},
     "output_type": "display_data"
    },
    {
     "data": {
      "application/vnd.jupyter.widget-view+json": {
       "model_id": "6530eb705863479db48ab83e14d2f88e",
       "version_major": 2,
       "version_minor": 0
      },
      "text/plain": [
       "TextWidget(colors=['#ff0000', '#00ff00', '#0000ff'], labels=['protein', 'DNA', 'RNA'], result=[{'start': 0, 'e…"
      ]
     },
     "metadata": {},
     "output_type": "display_data"
    }
   ],
   "source": [
    "widgets = [\n",
    "    ipylabel.TextWidget(\n",
    "        text=\"Мама мыла раму\",\n",
    "        labels=[\"protein\", \"DNA\", \"RNA\"],\n",
    "        colors=[\"#ff0000\", \"#00ff00\", \"#0000ff\"],\n",
    "        result=[{\"start\": 0, \"end\": 5, \"label\": \"DNA\"}],\n",
    "    )\n",
    "    for _ in range(10)\n",
    "]\n",
    "display(*widgets)"
   ]
  },
  {
   "cell_type": "code",
   "execution_count": null,
   "metadata": {},
   "outputs": [],
   "source": []
  }
 ],
 "metadata": {
  "kernelspec": {
   "display_name": "Python 3 (ipykernel)",
   "language": "python",
   "name": "python3"
  },
  "language_info": {
   "codemirror_mode": {
    "name": "ipython",
    "version": 3
   },
   "file_extension": ".py",
   "mimetype": "text/x-python",
   "name": "python",
   "nbconvert_exporter": "python",
   "pygments_lexer": "ipython3",
   "version": "3.10.5"
  },
  "vscode": {
   "interpreter": {
    "hash": "2905e140123fbb01cecfd029de2077beeea6a8f3fbe05939178a9f249a8b5e91"
   }
  },
  "widgets": {
   "application/vnd.jupyter.widget-state+json": {
    "state": {
     "0e2ccff1e6f342bd843d202830b2631e": {
      "model_module": "@jupyter-widgets/base",
      "model_module_version": "1.2.0",
      "model_name": "LayoutModel",
      "state": {}
     },
     "1091c165c9db4b39a820938360d7856f": {
      "model_module": "ipylabel",
      "model_module_version": "^0.1.4",
      "model_name": "TextLabelingModel",
      "state": {
       "_model_module_version": "^0.1.4",
       "_view_module_version": "^0.1.4",
       "colors": [
        "#ff0000",
        "#00ff00",
        "#0000ff"
       ],
       "finished": false,
       "labels": [
        "protein",
        "DNA",
        "RNA"
       ],
       "layout": "IPY_MODEL_555939ebc12a4e2eba5d9aa7332570c1",
       "result": [
        {
         "end": 5,
         "label": "DNA",
         "start": 0
        }
       ],
       "text": "Мама мыла раму"
      }
     },
     "1947c89ebde84034b6133370e702f6a5": {
      "model_module": "ipylabel",
      "model_module_version": "^0.1.4",
      "model_name": "TextLabelingModel",
      "state": {
       "_model_module_version": "^0.1.4",
       "_view_module_version": "^0.1.4",
       "colors": [
        "#ff0000",
        "#00ff00",
        "#0000ff",
        "#f0f0ff"
       ],
       "finished": false,
       "labels": [
        "protein",
        "DNA",
        "RNA",
        "Also NO"
       ],
       "layout": "IPY_MODEL_c8bc5522e6da4462b5ae5e0b4829f256",
       "result": [
        {
         "end": 5,
         "label": "DNA",
         "start": 0
        }
       ],
       "text": "Мама мыла раму"
      }
     },
     "39b9bc4a43374894b9a3838d1b0d8cb5": {
      "model_module": "@jupyter-widgets/base",
      "model_module_version": "1.2.0",
      "model_name": "LayoutModel",
      "state": {}
     },
     "40a1bd336af44a378fc32d1c6151a14f": {
      "model_module": "ipylabel",
      "model_module_version": "^0.1.4",
      "model_name": "TextLabelingModel",
      "state": {
       "_model_module_version": "^0.1.4",
       "_view_module_version": "^0.1.4",
       "colors": [
        "#ff0000",
        "#00ff00",
        "#0000ff"
       ],
       "finished": false,
       "labels": [
        "protein",
        "DNA",
        "RNA"
       ],
       "layout": "IPY_MODEL_39b9bc4a43374894b9a3838d1b0d8cb5",
       "result": [
        {
         "end": 5,
         "label": "DNA",
         "start": 0
        }
       ],
       "text": "Мама мыла раму"
      }
     },
     "4c1c768e7b854f0289e0386b37386442": {
      "model_module": "@jupyter-widgets/base",
      "model_module_version": "1.2.0",
      "model_name": "LayoutModel",
      "state": {}
     },
     "555939ebc12a4e2eba5d9aa7332570c1": {
      "model_module": "@jupyter-widgets/base",
      "model_module_version": "1.2.0",
      "model_name": "LayoutModel",
      "state": {}
     },
     "5e08a6fff4654d978b4d0477c0669ec1": {
      "model_module": "ipylabel",
      "model_module_version": "^0.1.4",
      "model_name": "TextLabelingModel",
      "state": {
       "_model_module_version": "^0.1.4",
       "_view_module_version": "^0.1.4",
       "colors": [
        "#ff0000",
        "#00ff00",
        "#0000ff"
       ],
       "finished": false,
       "labels": [
        "protein",
        "DNA",
        "RNA"
       ],
       "layout": "IPY_MODEL_91032ecf5ded4bf2b719f4801614d68e",
       "result": [
        {
         "end": 5,
         "label": "DNA",
         "start": 0
        }
       ],
       "text": "Мама мыла раму"
      }
     },
     "6530eb705863479db48ab83e14d2f88e": {
      "model_module": "ipylabel",
      "model_module_version": "^0.1.4",
      "model_name": "TextLabelingModel",
      "state": {
       "_model_module_version": "^0.1.4",
       "_view_module_version": "^0.1.4",
       "colors": [
        "#ff0000",
        "#00ff00",
        "#0000ff"
       ],
       "finished": false,
       "labels": [
        "protein",
        "DNA",
        "RNA"
       ],
       "layout": "IPY_MODEL_f91b466789594f1298360c4c750c9fba",
       "result": [
        {
         "end": 5,
         "label": "DNA",
         "start": 0
        }
       ],
       "text": "Мама мыла раму"
      }
     },
     "771de2a8afff4b8cae81f3a110a410fc": {
      "model_module": "ipylabel",
      "model_module_version": "^0.1.4",
      "model_name": "TextLabelingModel",
      "state": {
       "_model_module_version": "^0.1.4",
       "_view_module_version": "^0.1.4",
       "colors": [
        "#ff0000",
        "#00ff00",
        "#0000ff"
       ],
       "finished": false,
       "labels": [
        "protein",
        "DNA",
        "RNA"
       ],
       "layout": "IPY_MODEL_efc132dc4448459ebe57666849846bb6",
       "result": [
        {
         "end": 5,
         "label": "DNA",
         "start": 0
        }
       ],
       "text": "Мама мыла раму"
      }
     },
     "88720fc49fe04bda920b4b2c3375a031": {
      "model_module": "ipylabel",
      "model_module_version": "^0.1.4",
      "model_name": "TextLabelingModel",
      "state": {
       "_model_module_version": "^0.1.4",
       "_view_module_version": "^0.1.4",
       "colors": [
        "#ff0000",
        "#00ff00",
        "#0000ff"
       ],
       "finished": false,
       "labels": [
        "protein",
        "DNA",
        "RNA"
       ],
       "layout": "IPY_MODEL_0e2ccff1e6f342bd843d202830b2631e",
       "result": [
        {
         "end": 5,
         "label": "DNA",
         "start": 0
        }
       ],
       "text": "Мама мыла раму"
      }
     },
     "91032ecf5ded4bf2b719f4801614d68e": {
      "model_module": "@jupyter-widgets/base",
      "model_module_version": "1.2.0",
      "model_name": "LayoutModel",
      "state": {}
     },
     "9c62d4ea42cd4a22a5d2baec3de94191": {
      "model_module": "ipylabel",
      "model_module_version": "^0.1.4",
      "model_name": "TextLabelingModel",
      "state": {
       "_model_module_version": "^0.1.4",
       "_view_module_version": "^0.1.4",
       "colors": [
        "#ff0000",
        "#00ff00",
        "#0000ff"
       ],
       "finished": false,
       "labels": [
        "protein",
        "DNA",
        "RNA"
       ],
       "layout": "IPY_MODEL_f9e1b91279eb4b98bfe5122f55e42344",
       "result": [
        {
         "end": 5,
         "label": "DNA",
         "start": 0
        }
       ],
       "text": "Мама мыла раму"
      }
     },
     "b49848255d844a108b89343b29fe5919": {
      "model_module": "ipylabel",
      "model_module_version": "^0.1.4",
      "model_name": "TextLabelingModel",
      "state": {
       "_model_module_version": "^0.1.4",
       "_view_module_version": "^0.1.4",
       "colors": [
        "#ff0000",
        "#00ff00",
        "#0000ff"
       ],
       "finished": false,
       "labels": [
        "protein",
        "DNA",
        "RNA"
       ],
       "layout": "IPY_MODEL_4c1c768e7b854f0289e0386b37386442",
       "result": [
        {
         "end": 5,
         "label": "DNA",
         "start": 0
        }
       ],
       "text": "Мама мыла раму"
      }
     },
     "b72862f257784f35a25e54755063bff0": {
      "model_module": "ipylabel",
      "model_module_version": "^0.1.4",
      "model_name": "TextLabelingModel",
      "state": {
       "_model_module_version": "^0.1.4",
       "_view_module_version": "^0.1.4",
       "colors": [
        "#ff0000",
        "#00ff00",
        "#0000ff"
       ],
       "finished": false,
       "labels": [
        "protein",
        "DNA",
        "RNA"
       ],
       "layout": "IPY_MODEL_ea7ce0bbfdab4dad87ac55cd7738a208",
       "result": [
        {
         "end": 5,
         "label": "DNA",
         "start": 0
        }
       ],
       "text": "Мама мыла раму"
      }
     },
     "c8bc5522e6da4462b5ae5e0b4829f256": {
      "model_module": "@jupyter-widgets/base",
      "model_module_version": "1.2.0",
      "model_name": "LayoutModel",
      "state": {}
     },
     "ea7ce0bbfdab4dad87ac55cd7738a208": {
      "model_module": "@jupyter-widgets/base",
      "model_module_version": "1.2.0",
      "model_name": "LayoutModel",
      "state": {}
     },
     "efc132dc4448459ebe57666849846bb6": {
      "model_module": "@jupyter-widgets/base",
      "model_module_version": "1.2.0",
      "model_name": "LayoutModel",
      "state": {}
     },
     "f3333a27c5df4ccfb72d5ca181169105": {
      "model_module": "@jupyter-widgets/base",
      "model_module_version": "1.2.0",
      "model_name": "LayoutModel",
      "state": {}
     },
     "f91b466789594f1298360c4c750c9fba": {
      "model_module": "@jupyter-widgets/base",
      "model_module_version": "1.2.0",
      "model_name": "LayoutModel",
      "state": {}
     },
     "f9e1b91279eb4b98bfe5122f55e42344": {
      "model_module": "@jupyter-widgets/base",
      "model_module_version": "1.2.0",
      "model_name": "LayoutModel",
      "state": {}
     },
     "fcf590a040e046d59463503ba04a1a1f": {
      "model_module": "ipylabel",
      "model_module_version": "^0.1.4",
      "model_name": "TextLabelingModel",
      "state": {
       "_model_module_version": "^0.1.4",
       "_view_module_version": "^0.1.4",
       "colors": [
        "#ff0000",
        "#00ff00",
        "#0000ff"
       ],
       "finished": false,
       "labels": [
        "protein",
        "DNA",
        "RNA"
       ],
       "layout": "IPY_MODEL_f3333a27c5df4ccfb72d5ca181169105",
       "result": [
        {
         "end": 5,
         "label": "DNA",
         "start": 0
        }
       ],
       "text": "Мама мыла раму"
      }
     }
    },
    "version_major": 2,
    "version_minor": 0
   }
  }
 },
 "nbformat": 4,
 "nbformat_minor": 4
}
