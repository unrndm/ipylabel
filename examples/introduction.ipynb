{
 "cells": [
  {
   "cell_type": "markdown",
   "metadata": {},
   "source": [
    "# Introduction"
   ]
  },
  {
   "cell_type": "code",
   "execution_count": 1,
   "metadata": {},
   "outputs": [],
   "source": [
    "# handle launching on colab\n",
    "if \"google.colab\" in str(get_ipython()):\n",
    "    # running on CoLab\n",
    "    %pip install -U \"ipylabel>=0.1.4\"\n",
    "\n",
    "    from google.colab import output\n",
    "\n",
    "    output.enable_custom_widget_manager()"
   ]
  },
  {
   "cell_type": "code",
   "execution_count": 2,
   "metadata": {},
   "outputs": [],
   "source": [
    "from __future__ import annotations\n",
    "\n",
    "import ipylabel"
   ]
  },
  {
   "cell_type": "code",
   "execution_count": 3,
   "metadata": {},
   "outputs": [
    {
     "data": {
      "application/vnd.jupyter.widget-view+json": {
       "model_id": "598b2fa5ac95471a9e45b1188dafebe1",
       "version_major": 2,
       "version_minor": 0
      },
      "text/plain": [
       "TextWidget(colors=['#ff0000', '#00ff00', '#0000ff'], labels=['protein', 'DNA', 'RNA'], result=[{'start': 0, 'e…"
      ]
     },
     "metadata": {},
     "output_type": "display_data"
    }
   ],
   "source": [
    "text_widget = ipylabel.TextWidget(\n",
    "    text=\"Мама мыла раму\",\n",
    "    labels=[\"protein\", \"DNA\", \"RNA\"],\n",
    "    colors=[\"#ff0000\", \"#00ff00\", \"#0000ff\"],\n",
    "    result=[{\"start\": 0, \"end\": 5, \"label\": \"DNA\"}],\n",
    ")\n",
    "\n",
    "text_widget.observe(lambda c: print(c), [\"result\", \"finished\"])\n",
    "text_widget"
   ]
  },
  {
   "cell_type": "code",
   "execution_count": 4,
   "metadata": {},
   "outputs": [
    {
     "data": {
      "application/vnd.jupyter.widget-view+json": {
       "model_id": "fa3cca3473e34303a2e172fdc883b053",
       "version_major": 2,
       "version_minor": 0
      },
      "text/plain": [
       "TextWidget(colors=['#ff0000', '#00ff00', '#0000ff'], labels=['protein', 'DNA', 'RNA'], result=[{'start': 0, 'e…"
      ]
     },
     "metadata": {},
     "output_type": "display_data"
    },
    {
     "data": {
      "application/vnd.jupyter.widget-view+json": {
       "model_id": "9b02441191a342398211c374b0e3ebe5",
       "version_major": 2,
       "version_minor": 0
      },
      "text/plain": [
       "TextWidget(colors=['#ff0000', '#00ff00', '#0000ff'], labels=['protein', 'DNA', 'RNA'], result=[{'start': 0, 'e…"
      ]
     },
     "metadata": {},
     "output_type": "display_data"
    },
    {
     "data": {
      "application/vnd.jupyter.widget-view+json": {
       "model_id": "b381ca8b44014d079cf80f621d0c24eb",
       "version_major": 2,
       "version_minor": 0
      },
      "text/plain": [
       "TextWidget(colors=['#ff0000', '#00ff00', '#0000ff'], labels=['protein', 'DNA', 'RNA'], result=[{'start': 0, 'e…"
      ]
     },
     "metadata": {},
     "output_type": "display_data"
    },
    {
     "data": {
      "application/vnd.jupyter.widget-view+json": {
       "model_id": "988e961cfc81458e8ce4023eea141ccb",
       "version_major": 2,
       "version_minor": 0
      },
      "text/plain": [
       "TextWidget(colors=['#ff0000', '#00ff00', '#0000ff'], labels=['protein', 'DNA', 'RNA'], result=[{'start': 0, 'e…"
      ]
     },
     "metadata": {},
     "output_type": "display_data"
    },
    {
     "data": {
      "application/vnd.jupyter.widget-view+json": {
       "model_id": "d97dd14ca6f941bb9b3dd99b643df681",
       "version_major": 2,
       "version_minor": 0
      },
      "text/plain": [
       "TextWidget(colors=['#ff0000', '#00ff00', '#0000ff'], labels=['protein', 'DNA', 'RNA'], result=[{'start': 0, 'e…"
      ]
     },
     "metadata": {},
     "output_type": "display_data"
    },
    {
     "data": {
      "application/vnd.jupyter.widget-view+json": {
       "model_id": "0aea37166ae24f24892bb66adaa382e6",
       "version_major": 2,
       "version_minor": 0
      },
      "text/plain": [
       "TextWidget(colors=['#ff0000', '#00ff00', '#0000ff'], labels=['protein', 'DNA', 'RNA'], result=[{'start': 0, 'e…"
      ]
     },
     "metadata": {},
     "output_type": "display_data"
    },
    {
     "data": {
      "application/vnd.jupyter.widget-view+json": {
       "model_id": "8dc1fc260cd34c069e26b34cf165980c",
       "version_major": 2,
       "version_minor": 0
      },
      "text/plain": [
       "TextWidget(colors=['#ff0000', '#00ff00', '#0000ff'], labels=['protein', 'DNA', 'RNA'], result=[{'start': 0, 'e…"
      ]
     },
     "metadata": {},
     "output_type": "display_data"
    },
    {
     "data": {
      "application/vnd.jupyter.widget-view+json": {
       "model_id": "096707a9da134ddc9c01a9ddcb12e636",
       "version_major": 2,
       "version_minor": 0
      },
      "text/plain": [
       "TextWidget(colors=['#ff0000', '#00ff00', '#0000ff'], labels=['protein', 'DNA', 'RNA'], result=[{'start': 0, 'e…"
      ]
     },
     "metadata": {},
     "output_type": "display_data"
    },
    {
     "data": {
      "application/vnd.jupyter.widget-view+json": {
       "model_id": "e1311f4bc5da4d788df821aef67759b5",
       "version_major": 2,
       "version_minor": 0
      },
      "text/plain": [
       "TextWidget(colors=['#ff0000', '#00ff00', '#0000ff'], labels=['protein', 'DNA', 'RNA'], result=[{'start': 0, 'e…"
      ]
     },
     "metadata": {},
     "output_type": "display_data"
    },
    {
     "data": {
      "application/vnd.jupyter.widget-view+json": {
       "model_id": "5f733e19bafe4b43a3a3a6e2b487e5df",
       "version_major": 2,
       "version_minor": 0
      },
      "text/plain": [
       "TextWidget(colors=['#ff0000', '#00ff00', '#0000ff'], labels=['protein', 'DNA', 'RNA'], result=[{'start': 0, 'e…"
      ]
     },
     "metadata": {},
     "output_type": "display_data"
    }
   ],
   "source": [
    "widgets = [\n",
    "    ipylabel.TextWidget(\n",
    "        text=\"Мама мыла раму\",\n",
    "        labels=[\"protein\", \"DNA\", \"RNA\"],\n",
    "        colors=[\"#ff0000\", \"#00ff00\", \"#0000ff\"],\n",
    "        result=[{\"start\": 0, \"end\": 5, \"label\": \"DNA\"}],\n",
    "    )\n",
    "    for _ in range(10)\n",
    "]\n",
    "display(*widgets)"
   ]
  },
  {
   "cell_type": "code",
   "execution_count": null,
   "metadata": {},
   "outputs": [],
   "source": []
  }
 ],
 "metadata": {
  "kernelspec": {
   "display_name": "Python 3 (ipykernel)",
   "language": "python",
   "name": "python3"
  },
  "language_info": {
   "codemirror_mode": {
    "name": "ipython",
    "version": 3
   },
   "file_extension": ".py",
   "mimetype": "text/x-python",
   "name": "python",
   "nbconvert_exporter": "python",
   "pygments_lexer": "ipython3",
   "version": "3.10.5"
  },
  "vscode": {
   "interpreter": {
    "hash": "2905e140123fbb01cecfd029de2077beeea6a8f3fbe05939178a9f249a8b5e91"
   }
  },
  "widgets": {
   "application/vnd.jupyter.widget-state+json": {
    "state": {
     "096707a9da134ddc9c01a9ddcb12e636": {
      "model_module": "ipylabel",
      "model_module_version": "^0.1.4",
      "model_name": "TextLabelingModel",
      "state": {
       "_model_module_version": "^0.1.4",
       "_view_module_version": "^0.1.4",
       "colors": [
        "#ff0000",
        "#00ff00",
        "#0000ff"
       ],
       "finished": false,
       "labels": [
        "protein",
        "DNA",
        "RNA"
       ],
       "layout": "IPY_MODEL_aebc1b7e275044ad8201b055df46463f",
       "result": [
        {
         "end": 5,
         "label": "DNA",
         "start": 0
        }
       ],
       "text": "Мама мыла раму"
      }
     },
     "0aea37166ae24f24892bb66adaa382e6": {
      "model_module": "ipylabel",
      "model_module_version": "^0.1.4",
      "model_name": "TextLabelingModel",
      "state": {
       "_model_module_version": "^0.1.4",
       "_view_module_version": "^0.1.4",
       "colors": [
        "#ff0000",
        "#00ff00",
        "#0000ff"
       ],
       "finished": false,
       "labels": [
        "protein",
        "DNA",
        "RNA"
       ],
       "layout": "IPY_MODEL_abde96c826364abf9dd8658893eccb1e",
       "result": [
        {
         "end": 5,
         "label": "DNA",
         "start": 0
        }
       ],
       "text": "Мама мыла раму"
      }
     },
     "2122858866614a02b83370cac772ea82": {
      "model_module": "@jupyter-widgets/base",
      "model_module_version": "1.2.0",
      "model_name": "LayoutModel",
      "state": {}
     },
     "2790ca321b284a468c7c78e6647e159e": {
      "model_module": "@jupyter-widgets/base",
      "model_module_version": "1.2.0",
      "model_name": "LayoutModel",
      "state": {}
     },
     "282976a6ddb540abb65dc60e807240d4": {
      "model_module": "@jupyter-widgets/base",
      "model_module_version": "1.2.0",
      "model_name": "LayoutModel",
      "state": {}
     },
     "2d0385cc5f924adbb295383c6bdb2102": {
      "model_module": "@jupyter-widgets/base",
      "model_module_version": "1.2.0",
      "model_name": "LayoutModel",
      "state": {}
     },
     "3b835a59485b44a7811adfaa81c25309": {
      "model_module": "@jupyter-widgets/base",
      "model_module_version": "1.2.0",
      "model_name": "LayoutModel",
      "state": {}
     },
     "598b2fa5ac95471a9e45b1188dafebe1": {
      "model_module": "ipylabel",
      "model_module_version": "^0.1.4",
      "model_name": "TextLabelingModel",
      "state": {
       "_model_module_version": "^0.1.4",
       "_view_module_version": "^0.1.4",
       "colors": [
        "#ff0000",
        "#00ff00",
        "#0000ff"
       ],
       "finished": false,
       "labels": [
        "protein",
        "DNA",
        "RNA"
       ],
       "layout": "IPY_MODEL_2122858866614a02b83370cac772ea82",
       "result": [
        {
         "end": 5,
         "label": "DNA",
         "start": 0
        }
       ],
       "text": "Мама мыла раму"
      }
     },
     "5d7a4c868a484023913eb4ead3dffdc6": {
      "model_module": "@jupyter-widgets/base",
      "model_module_version": "1.2.0",
      "model_name": "LayoutModel",
      "state": {}
     },
     "5f733e19bafe4b43a3a3a6e2b487e5df": {
      "model_module": "ipylabel",
      "model_module_version": "^0.1.4",
      "model_name": "TextLabelingModel",
      "state": {
       "_model_module_version": "^0.1.4",
       "_view_module_version": "^0.1.4",
       "colors": [
        "#ff0000",
        "#00ff00",
        "#0000ff"
       ],
       "finished": false,
       "labels": [
        "protein",
        "DNA",
        "RNA"
       ],
       "layout": "IPY_MODEL_3b835a59485b44a7811adfaa81c25309",
       "result": [
        {
         "end": 5,
         "label": "DNA",
         "start": 0
        }
       ],
       "text": "Мама мыла раму"
      }
     },
     "656049b58af04b0aa2d24a3a4f89c88d": {
      "model_module": "@jupyter-widgets/base",
      "model_module_version": "1.2.0",
      "model_name": "LayoutModel",
      "state": {}
     },
     "6bb2ba60048e4d3ea1bb0749a955bb87": {
      "model_module": "@jupyter-widgets/base",
      "model_module_version": "1.2.0",
      "model_name": "LayoutModel",
      "state": {}
     },
     "8dc1fc260cd34c069e26b34cf165980c": {
      "model_module": "ipylabel",
      "model_module_version": "^0.1.4",
      "model_name": "TextLabelingModel",
      "state": {
       "_model_module_version": "^0.1.4",
       "_view_module_version": "^0.1.4",
       "colors": [
        "#ff0000",
        "#00ff00",
        "#0000ff"
       ],
       "finished": false,
       "labels": [
        "protein",
        "DNA",
        "RNA"
       ],
       "layout": "IPY_MODEL_cf4ea3005c3e4665b4a1a3765f849c44",
       "result": [
        {
         "end": 5,
         "label": "DNA",
         "start": 0
        }
       ],
       "text": "Мама мыла раму"
      }
     },
     "988e961cfc81458e8ce4023eea141ccb": {
      "model_module": "ipylabel",
      "model_module_version": "^0.1.4",
      "model_name": "TextLabelingModel",
      "state": {
       "_model_module_version": "^0.1.4",
       "_view_module_version": "^0.1.4",
       "colors": [
        "#ff0000",
        "#00ff00",
        "#0000ff"
       ],
       "finished": false,
       "labels": [
        "protein",
        "DNA",
        "RNA"
       ],
       "layout": "IPY_MODEL_282976a6ddb540abb65dc60e807240d4",
       "result": [
        {
         "end": 5,
         "label": "DNA",
         "start": 0
        }
       ],
       "text": "Мама мыла раму"
      }
     },
     "9b02441191a342398211c374b0e3ebe5": {
      "model_module": "ipylabel",
      "model_module_version": "^0.1.4",
      "model_name": "TextLabelingModel",
      "state": {
       "_model_module_version": "^0.1.4",
       "_view_module_version": "^0.1.4",
       "colors": [
        "#ff0000",
        "#00ff00",
        "#0000ff"
       ],
       "finished": false,
       "labels": [
        "protein",
        "DNA",
        "RNA"
       ],
       "layout": "IPY_MODEL_5d7a4c868a484023913eb4ead3dffdc6",
       "result": [
        {
         "end": 5,
         "label": "DNA",
         "start": 0
        }
       ],
       "text": "Мама мыла раму"
      }
     },
     "abde96c826364abf9dd8658893eccb1e": {
      "model_module": "@jupyter-widgets/base",
      "model_module_version": "1.2.0",
      "model_name": "LayoutModel",
      "state": {}
     },
     "aebc1b7e275044ad8201b055df46463f": {
      "model_module": "@jupyter-widgets/base",
      "model_module_version": "1.2.0",
      "model_name": "LayoutModel",
      "state": {}
     },
     "b381ca8b44014d079cf80f621d0c24eb": {
      "model_module": "ipylabel",
      "model_module_version": "^0.1.4",
      "model_name": "TextLabelingModel",
      "state": {
       "_model_module_version": "^0.1.4",
       "_view_module_version": "^0.1.4",
       "colors": [
        "#ff0000",
        "#00ff00",
        "#0000ff"
       ],
       "finished": false,
       "labels": [
        "protein",
        "DNA",
        "RNA"
       ],
       "layout": "IPY_MODEL_656049b58af04b0aa2d24a3a4f89c88d",
       "result": [
        {
         "end": 5,
         "label": "DNA",
         "start": 0
        }
       ],
       "text": "Мама мыла раму"
      }
     },
     "cf4ea3005c3e4665b4a1a3765f849c44": {
      "model_module": "@jupyter-widgets/base",
      "model_module_version": "1.2.0",
      "model_name": "LayoutModel",
      "state": {}
     },
     "d97dd14ca6f941bb9b3dd99b643df681": {
      "model_module": "ipylabel",
      "model_module_version": "^0.1.4",
      "model_name": "TextLabelingModel",
      "state": {
       "_model_module_version": "^0.1.4",
       "_view_module_version": "^0.1.4",
       "colors": [
        "#ff0000",
        "#00ff00",
        "#0000ff"
       ],
       "finished": false,
       "labels": [
        "protein",
        "DNA",
        "RNA"
       ],
       "layout": "IPY_MODEL_2790ca321b284a468c7c78e6647e159e",
       "result": [
        {
         "end": 5,
         "label": "DNA",
         "start": 0
        }
       ],
       "text": "Мама мыла раму"
      }
     },
     "e1311f4bc5da4d788df821aef67759b5": {
      "model_module": "ipylabel",
      "model_module_version": "^0.1.4",
      "model_name": "TextLabelingModel",
      "state": {
       "_model_module_version": "^0.1.4",
       "_view_module_version": "^0.1.4",
       "colors": [
        "#ff0000",
        "#00ff00",
        "#0000ff"
       ],
       "finished": false,
       "labels": [
        "protein",
        "DNA",
        "RNA"
       ],
       "layout": "IPY_MODEL_2d0385cc5f924adbb295383c6bdb2102",
       "result": [
        {
         "end": 5,
         "label": "DNA",
         "start": 0
        }
       ],
       "text": "Мама мыла раму"
      }
     },
     "fa3cca3473e34303a2e172fdc883b053": {
      "model_module": "ipylabel",
      "model_module_version": "^0.1.4",
      "model_name": "TextLabelingModel",
      "state": {
       "_model_module_version": "^0.1.4",
       "_view_module_version": "^0.1.4",
       "colors": [
        "#ff0000",
        "#00ff00",
        "#0000ff"
       ],
       "finished": false,
       "labels": [
        "protein",
        "DNA",
        "RNA"
       ],
       "layout": "IPY_MODEL_6bb2ba60048e4d3ea1bb0749a955bb87",
       "result": [
        {
         "end": 5,
         "label": "DNA",
         "start": 0
        }
       ],
       "text": "Мама мыла раму"
      }
     }
    },
    "version_major": 2,
    "version_minor": 0
   }
  }
 },
 "nbformat": 4,
 "nbformat_minor": 4
}
