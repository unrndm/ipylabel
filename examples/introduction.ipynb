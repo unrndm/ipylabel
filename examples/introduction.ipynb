{
 "cells": [
  {
   "cell_type": "markdown",
   "metadata": {},
   "source": [
    "# Introduction"
   ]
  },
  {
   "cell_type": "code",
   "execution_count": 1,
   "metadata": {},
   "outputs": [
    {
     "name": "stdout",
     "output_type": "stream",
     "text": [
      "Requirement already satisfied: distinctipy in /home/unrndm/miniconda3/envs/ipylabel/lib/python3.10/site-packages (1.2.2)\n",
      "Requirement already satisfied: numpy in /home/unrndm/miniconda3/envs/ipylabel/lib/python3.10/site-packages (from distinctipy) (1.23.3)\n",
      "Note: you may need to restart the kernel to use updated packages.\n"
     ]
    }
   ],
   "source": [
    "%pip install distinctipy"
   ]
  },
  {
   "cell_type": "code",
   "execution_count": 2,
   "metadata": {},
   "outputs": [],
   "source": [
    "# handle launching on colab\n",
    "if 'google.colab' in str(get_ipython()):\n",
    "  # running on CoLab\n",
    "  %pip install -U \"ipylabel>=0.1.4\"\n",
    "\n",
    "  from google.colab import output\n",
    "  output.enable_custom_widget_manager()"
   ]
  },
  {
   "cell_type": "code",
   "execution_count": 3,
   "metadata": {},
   "outputs": [],
   "source": [
    "from __future__ import annotations\n",
    "\n",
    "import ipylabel"
   ]
  },
  {
   "cell_type": "code",
   "execution_count": 4,
   "metadata": {},
   "outputs": [
    {
     "data": {
      "application/vnd.jupyter.widget-view+json": {
       "model_id": "269db0a111654a9fbc8e855e5914e4c8",
       "version_major": 2,
       "version_minor": 0
      },
      "text/plain": [
       "TextWidget(colors=['#ff0000', '#00ff00', '#0000ff'], labels=['protein', 'DNA', 'RNA'], text='Мама мыла раму')"
      ]
     },
     "metadata": {},
     "output_type": "display_data"
    }
   ],
   "source": [
    "text_widget = ipylabel.TextWidget(\n",
    "    text=\"Мама мыла раму\",\n",
    "    labels=[\"protein\", \"DNA\", \"RNA\"],\n",
    "    colors=[\"#ff0000\", \"#00ff00\", \"#0000ff\"],\n",
    ")\n",
    "text_widget"
   ]
  },
  {
   "cell_type": "markdown",
   "metadata": {},
   "source": [
    "# Examples of use:"
   ]
  },
  {
   "cell_type": "markdown",
   "metadata": {},
   "source": [
    "## Extend widget"
   ]
  },
  {
   "cell_type": "code",
   "execution_count": 5,
   "metadata": {},
   "outputs": [
    {
     "data": {
      "application/vnd.jupyter.widget-view+json": {
       "model_id": "9d6d288a3c544e22bd7c89744dcaaa32",
       "version_major": 2,
       "version_minor": 0
      },
      "text/plain": [
       "MyExtendedWidget(colors=['#ff0000', '#00ff00', '#0000ff'], labels=['protein', 'DNA', 'RNA'], text='Мама мыла р…"
      ]
     },
     "metadata": {},
     "output_type": "display_data"
    },
    {
     "data": {
      "application/vnd.jupyter.widget-view+json": {
       "model_id": "c5deea04d10a48fbad3d5b77a80033a1",
       "version_major": 2,
       "version_minor": 0
      },
      "text/plain": [
       "Output()"
      ]
     },
     "metadata": {},
     "output_type": "display_data"
    }
   ],
   "source": [
    "from traitlets import observe\n",
    "from ipywidgets import Output\n",
    "\n",
    "output = Output()\n",
    "\n",
    "class MyExtendedWidget(ipylabel.TextWidget):\n",
    "  def __init__(self, name: str, **kwargs):\n",
    "    super().__init__(**kwargs)\n",
    "    self.name = name\n",
    "  \n",
    "  @observe('finished')\n",
    "  @output.capture()\n",
    "  def _finished_changed(self, change):\n",
    "    print(\"Value changed to\", change)\n",
    "    self.name = change[\"new\"]\n",
    "    print(\"name changed to\", self.name)\n",
    "    \n",
    "\n",
    "my_extended_widget = MyExtendedWidget(\n",
    "  \"first widget\",\n",
    "  text=\"Мама мыла раму\",\n",
    "  labels=[\"protein\", \"DNA\", \"RNA\"],\n",
    "  colors=[\"#ff0000\", \"#00ff00\", \"#0000ff\"]\n",
    ")\n",
    "display(my_extended_widget, output)"
   ]
  },
  {
   "cell_type": "code",
   "execution_count": 6,
   "metadata": {},
   "outputs": [
    {
     "data": {
      "application/vnd.jupyter.widget-view+json": {
       "model_id": "8051e35158d24277beb4b8019fd81531",
       "version_major": 2,
       "version_minor": 0
      },
      "text/plain": [
       "MyAdvancedExtendedWidget(colors=['#00ff00', '#ff00ff', '#0080ff', '#ff8000', '#80bf80'], labels=['protein', 'D…"
      ]
     },
     "metadata": {},
     "output_type": "display_data"
    },
    {
     "data": {
      "application/vnd.jupyter.widget-view+json": {
       "model_id": "d4af0740eeb14121bfde19f14c70af60",
       "version_major": 2,
       "version_minor": 0
      },
      "text/plain": [
       "Output()"
      ]
     },
     "metadata": {},
     "output_type": "display_data"
    }
   ],
   "source": [
    "from traitlets import observe, default\n",
    "from ipywidgets import Output\n",
    "from distinctipy import distinctipy\n",
    "\n",
    "output = Output()\n",
    "\n",
    "class MyAdvancedExtendedWidget(ipylabel.TextWidget):\n",
    "  def __init__(self, name: str, *args, **kwargs):\n",
    "    super().__init__(**kwargs)\n",
    "    self.name = name\n",
    "  \n",
    "  @default(\"colors\")\n",
    "  def get_colors_default(self):\n",
    "    # conversion taken from https://github.com/matplotlib/matplotlib/blob/v3.5.3/lib/matplotlib/colors.py#L389-L408\n",
    "    return [\"#\" + \"\".join(format(int(round(val * 255)), \"02x\") for val in c) for c in distinctipy.get_colors(len(self.labels), rng=42)]\n",
    "    \n",
    "  \n",
    "  @observe('finished')\n",
    "  @output.capture()\n",
    "  def _finished_changed(self, change):\n",
    "    print(\"Value changed to\", change)\n",
    "    self.name = change[\"new\"]\n",
    "    print(\"name changed to\", self.name)\n",
    "    \n",
    "\n",
    "my_advanced_extended_widget = MyAdvancedExtendedWidget(\n",
    "  \"first widget\",\n",
    "  text=\"Мама мыла раму\",\n",
    "  labels=[\"protein\", \"DNA\", \"RNA\", \"RNA2\", \"RNA3\"],\n",
    ")\n",
    "display(my_advanced_extended_widget, output)"
   ]
  },
  {
   "cell_type": "markdown",
   "metadata": {},
   "source": [
    "## Wrap around widget"
   ]
  },
  {
   "cell_type": "code",
   "execution_count": 7,
   "metadata": {},
   "outputs": [
    {
     "data": {
      "application/vnd.jupyter.widget-view+json": {
       "model_id": "cfc08e82b5f04e28b4710d73103989b4",
       "version_major": 2,
       "version_minor": 0
      },
      "text/plain": [
       "TextWidget(colors=['#ff0000', '#00ff00', '#0000ff'], labels=['protein', 'DNA', 'RNA'], text='Мама мыла раму')"
      ]
     },
     "metadata": {},
     "output_type": "display_data"
    },
    {
     "data": {
      "application/vnd.jupyter.widget-view+json": {
       "model_id": "0f3798e53c99484ba742f7185118a9b9",
       "version_major": 2,
       "version_minor": 0
      },
      "text/plain": [
       "Output()"
      ]
     },
     "metadata": {},
     "output_type": "display_data"
    }
   ],
   "source": [
    "from traitlets import observe\n",
    "from ipywidgets import Output\n",
    "\n",
    "output = Output()\n",
    "\n",
    "class MyWrappedWidget:\n",
    "  def __init__(self,\n",
    "    name: str,\n",
    "    text: str,\n",
    "    labels: list[str],\n",
    "    colors: list[str],\n",
    "  ):\n",
    "    self.name = name\n",
    "    self.widget = ipylabel.TextWidget(text=text, labels=labels, colors=colors)\n",
    "    self.widget.observe(self._finished_changed, \"finished\")\n",
    "  \n",
    "  @output.capture()\n",
    "  def _finished_changed(self, change):\n",
    "    print(\"Value changed to\", change)\n",
    "    self.name = change[\"new\"]\n",
    "    print(\"name changed to\", self.name)\n",
    "  \n",
    "my_wrapped_widget = MyWrappedWidget(\n",
    "  \"first widget\",\n",
    "  text=\"Мама мыла раму\",\n",
    "  labels=[\"protein\", \"DNA\", \"RNA\"],\n",
    "  colors=[\"#ff0000\", \"#00ff00\", \"#0000ff\"]\n",
    ")\n",
    "display(my_wrapped_widget.widget, output)"
   ]
  },
  {
   "cell_type": "code",
   "execution_count": 8,
   "metadata": {},
   "outputs": [
    {
     "data": {
      "application/vnd.jupyter.widget-view+json": {
       "model_id": "ffcb33dba9a74a6db0c49b48309bb0c0",
       "version_major": 2,
       "version_minor": 0
      },
      "text/plain": [
       "TextWidget(colors=['#00ff00', '#ff00ff', '#0080ff'], labels=['protein', 'DNA', 'RNA'], text='Мама мыла раму')"
      ]
     },
     "metadata": {},
     "output_type": "display_data"
    },
    {
     "data": {
      "text/plain": []
     },
     "metadata": {},
     "output_type": "display_data"
    },
    {
     "data": {
      "application/vnd.jupyter.widget-view+json": {
       "model_id": "30caa9fbf6d148c084174351d5f8c06a",
       "version_major": 2,
       "version_minor": 0
      },
      "text/plain": [
       "Output()"
      ]
     },
     "metadata": {},
     "output_type": "display_data"
    }
   ],
   "source": [
    "from traitlets import observe\n",
    "from ipywidgets import Output\n",
    "\n",
    "output = Output()\n",
    "\n",
    "class MyAdvancedWrappedWidget:\n",
    "  def __init__(self,\n",
    "    name: str,\n",
    "    text: str,\n",
    "    labels: list[str],\n",
    "  ):\n",
    "    self.name = name\n",
    "    self.widget = ipylabel.TextWidget(text=text, labels=labels, colors=[\"#\" + \"\".join(format(int(round(val * 255)), \"02x\") for val in c) for c in distinctipy.get_colors(len(labels), rng=42)])\n",
    "    self.widget.observe(self._finished_changed, \"finished\")\n",
    "  \n",
    "  @output.capture()\n",
    "  def _finished_changed(self, change):\n",
    "    print(\"Value changed to\", change)\n",
    "    self.name = change[\"new\"]\n",
    "    print(\"name changed to\", self.name)\n",
    "  \n",
    "  def _repr_pretty_(self, pp, cycle):\n",
    "    return display(self.widget)\n",
    "\n",
    "my_advanced_wrapped_widget = MyAdvancedWrappedWidget(\n",
    "  \"first widget\",\n",
    "  text=\"Мама мыла раму\",\n",
    "  labels=[\"protein\", \"DNA\", \"RNA\"],\n",
    ")\n",
    "display(my_advanced_wrapped_widget, output)"
   ]
  },
  {
   "cell_type": "code",
   "execution_count": null,
   "metadata": {},
   "outputs": [],
   "source": []
  }
 ],
 "metadata": {
  "kernelspec": {
   "display_name": "Python 3.10.5 ('ipylabel')",
   "language": "python",
   "name": "python3"
  },
  "language_info": {
   "codemirror_mode": {
    "name": "ipython",
    "version": 3
   },
   "file_extension": ".py",
   "mimetype": "text/x-python",
   "name": "python",
   "nbconvert_exporter": "python",
   "pygments_lexer": "ipython3",
   "version": "3.10.5"
  },
  "vscode": {
   "interpreter": {
    "hash": "2905e140123fbb01cecfd029de2077beeea6a8f3fbe05939178a9f249a8b5e91"
   }
  }
 },
 "nbformat": 4,
 "nbformat_minor": 4
}
