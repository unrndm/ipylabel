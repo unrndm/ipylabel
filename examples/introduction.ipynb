{
 "cells": [
  {
   "cell_type": "markdown",
   "metadata": {},
   "source": [
    "# Introduction"
   ]
  },
  {
   "cell_type": "code",
   "execution_count": 1,
   "metadata": {},
   "outputs": [],
   "source": [
    "# handle launching on colab\n",
    "if \"google.colab\" in str(get_ipython()):\n",
    "    # running on CoLab\n",
    "    %pip install -U \"ipylabel>=0.1.4\"\n",
    "\n",
    "    from google.colab import output\n",
    "\n",
    "    output.enable_custom_widget_manager()"
   ]
  },
  {
   "cell_type": "code",
   "execution_count": 2,
   "metadata": {},
   "outputs": [],
   "source": [
    "from __future__ import annotations\n",
    "\n",
    "import ipylabel"
   ]
  },
  {
   "cell_type": "code",
   "execution_count": 3,
   "metadata": {},
   "outputs": [
    {
     "data": {
      "application/vnd.jupyter.widget-view+json": {
       "model_id": "c7aad4c743ca4498964dd03ee9b7904c",
       "version_major": 2,
       "version_minor": 0
      },
      "text/plain": [
       "TextWidget(colors=['#ff0000', '#00ff00', '#0000ff'], labels=['protein', 'DNA', 'RNA'], result=[{'start': 0, 'e…"
      ]
     },
     "metadata": {},
     "output_type": "display_data"
    }
   ],
   "source": [
    "text_widget = ipylabel.TextWidget(\n",
    "    text=\"Мама мыла раму\",\n",
    "    labels=[\"protein\", \"DNA\", \"RNA\"],\n",
    "    colors=[\"#ff0000\", \"#00ff00\", \"#0000ff\"],\n",
    "    result=[{\"start\": 0, \"end\": 5, \"label\": \"DNA\"}],\n",
    ")\n",
    "\n",
    "text_widget.observe(lambda c: print(c), [\"result\", \"finished\"])\n",
    "text_widget"
   ]
  },
  {
   "cell_type": "code",
   "execution_count": 4,
   "metadata": {},
   "outputs": [
    {
     "data": {
      "application/vnd.jupyter.widget-view+json": {
       "model_id": "5dcae9be374140b4bd54b0e73a04f426",
       "version_major": 2,
       "version_minor": 0
      },
      "text/plain": [
       "TextWidget(colors=['#ff0000', '#00ff00', '#0000ff'], labels=['protein', 'DNA', 'RNA'], result=[{'start': 0, 'e…"
      ]
     },
     "metadata": {},
     "output_type": "display_data"
    },
    {
     "data": {
      "application/vnd.jupyter.widget-view+json": {
       "model_id": "3f062fd61cb040769a90445b703b56db",
       "version_major": 2,
       "version_minor": 0
      },
      "text/plain": [
       "TextWidget(colors=['#ff0000', '#00ff00', '#0000ff'], labels=['protein', 'DNA', 'RNA'], result=[{'start': 0, 'e…"
      ]
     },
     "metadata": {},
     "output_type": "display_data"
    },
    {
     "data": {
      "application/vnd.jupyter.widget-view+json": {
       "model_id": "8bc643d13262479088a2ccea7b35edce",
       "version_major": 2,
       "version_minor": 0
      },
      "text/plain": [
       "TextWidget(colors=['#ff0000', '#00ff00', '#0000ff'], labels=['protein', 'DNA', 'RNA'], result=[{'start': 0, 'e…"
      ]
     },
     "metadata": {},
     "output_type": "display_data"
    },
    {
     "data": {
      "application/vnd.jupyter.widget-view+json": {
       "model_id": "dcbfb646efcc40dcbc826d90d2a92d1f",
       "version_major": 2,
       "version_minor": 0
      },
      "text/plain": [
       "TextWidget(colors=['#ff0000', '#00ff00', '#0000ff'], labels=['protein', 'DNA', 'RNA'], result=[{'start': 0, 'e…"
      ]
     },
     "metadata": {},
     "output_type": "display_data"
    },
    {
     "data": {
      "application/vnd.jupyter.widget-view+json": {
       "model_id": "0b6d521dd9254e0da6d89feaef125a99",
       "version_major": 2,
       "version_minor": 0
      },
      "text/plain": [
       "TextWidget(colors=['#ff0000', '#00ff00', '#0000ff'], labels=['protein', 'DNA', 'RNA'], result=[{'start': 0, 'e…"
      ]
     },
     "metadata": {},
     "output_type": "display_data"
    },
    {
     "data": {
      "application/vnd.jupyter.widget-view+json": {
       "model_id": "951ad6eba628465fa452364ff7ec5b89",
       "version_major": 2,
       "version_minor": 0
      },
      "text/plain": [
       "TextWidget(colors=['#ff0000', '#00ff00', '#0000ff'], labels=['protein', 'DNA', 'RNA'], result=[{'start': 0, 'e…"
      ]
     },
     "metadata": {},
     "output_type": "display_data"
    },
    {
     "data": {
      "application/vnd.jupyter.widget-view+json": {
       "model_id": "a6979daaa06343daaa5e557cac6a8ab0",
       "version_major": 2,
       "version_minor": 0
      },
      "text/plain": [
       "TextWidget(colors=['#ff0000', '#00ff00', '#0000ff'], labels=['protein', 'DNA', 'RNA'], result=[{'start': 0, 'e…"
      ]
     },
     "metadata": {},
     "output_type": "display_data"
    },
    {
     "data": {
      "application/vnd.jupyter.widget-view+json": {
       "model_id": "d7664f814f9e49ef85f5874068c6ca22",
       "version_major": 2,
       "version_minor": 0
      },
      "text/plain": [
       "TextWidget(colors=['#ff0000', '#00ff00', '#0000ff'], labels=['protein', 'DNA', 'RNA'], result=[{'start': 0, 'e…"
      ]
     },
     "metadata": {},
     "output_type": "display_data"
    },
    {
     "data": {
      "application/vnd.jupyter.widget-view+json": {
       "model_id": "23796a55a1a344a6923b56420a5c9a72",
       "version_major": 2,
       "version_minor": 0
      },
      "text/plain": [
       "TextWidget(colors=['#ff0000', '#00ff00', '#0000ff'], labels=['protein', 'DNA', 'RNA'], result=[{'start': 0, 'e…"
      ]
     },
     "metadata": {},
     "output_type": "display_data"
    },
    {
     "data": {
      "application/vnd.jupyter.widget-view+json": {
       "model_id": "1bf00f299731407a9433b5865f8685c7",
       "version_major": 2,
       "version_minor": 0
      },
      "text/plain": [
       "TextWidget(colors=['#ff0000', '#00ff00', '#0000ff'], labels=['protein', 'DNA', 'RNA'], result=[{'start': 0, 'e…"
      ]
     },
     "metadata": {},
     "output_type": "display_data"
    }
   ],
   "source": [
    "widgets = [\n",
    "    ipylabel.TextWidget(\n",
    "        text=\"Мама мыла раму\",\n",
    "        labels=[\"protein\", \"DNA\", \"RNA\"],\n",
    "        colors=[\"#ff0000\", \"#00ff00\", \"#0000ff\"],\n",
    "        result=[{\"start\": 0, \"end\": 5, \"label\": \"DNA\"}],\n",
    "    )\n",
    "    for _ in range(10)\n",
    "]\n",
    "display(*widgets)"
   ]
  },
  {
   "cell_type": "code",
   "execution_count": null,
   "metadata": {},
   "outputs": [],
   "source": []
  }
 ],
 "metadata": {
  "kernelspec": {
   "display_name": "Python 3 (ipykernel)",
   "language": "python",
   "name": "python3"
  },
  "language_info": {
   "codemirror_mode": {
    "name": "ipython",
    "version": 3
   },
   "file_extension": ".py",
   "mimetype": "text/x-python",
   "name": "python",
   "nbconvert_exporter": "python",
   "pygments_lexer": "ipython3",
   "version": "3.10.5"
  },
  "vscode": {
   "interpreter": {
    "hash": "2905e140123fbb01cecfd029de2077beeea6a8f3fbe05939178a9f249a8b5e91"
   }
  },
  "widgets": {
   "application/vnd.jupyter.widget-state+json": {
    "state": {
     "0b6d521dd9254e0da6d89feaef125a99": {
      "model_module": "ipylabel",
      "model_module_version": "^0.1.4",
      "model_name": "TextLabelingModel",
      "state": {
       "_model_module_version": "^0.1.4",
       "_view_module_version": "^0.1.4",
       "colors": [
        "#ff0000",
        "#00ff00",
        "#0000ff"
       ],
       "finished": false,
       "labels": [
        "protein",
        "DNA",
        "RNA"
       ],
       "layout": "IPY_MODEL_d5188f79610748369c8a6bb93d5acfce",
       "result": [
        {
         "end": 5,
         "label": "DNA",
         "start": 0
        }
       ],
       "text": "Мама мыла раму"
      }
     },
     "1bf00f299731407a9433b5865f8685c7": {
      "model_module": "ipylabel",
      "model_module_version": "^0.1.4",
      "model_name": "TextLabelingModel",
      "state": {
       "_model_module_version": "^0.1.4",
       "_view_module_version": "^0.1.4",
       "colors": [
        "#ff0000",
        "#00ff00",
        "#0000ff"
       ],
       "finished": false,
       "labels": [
        "protein",
        "DNA",
        "RNA"
       ],
       "layout": "IPY_MODEL_eb99f7c0ae6a4aeab25ba79ed6b4bdf0",
       "result": [
        {
         "end": 5,
         "label": "DNA",
         "start": 0
        }
       ],
       "text": "Мама мыла раму"
      }
     },
     "231a33da73184db5b63221d69b018070": {
      "model_module": "@jupyter-widgets/base",
      "model_module_version": "1.2.0",
      "model_name": "LayoutModel",
      "state": {}
     },
     "23796a55a1a344a6923b56420a5c9a72": {
      "model_module": "ipylabel",
      "model_module_version": "^0.1.4",
      "model_name": "TextLabelingModel",
      "state": {
       "_model_module_version": "^0.1.4",
       "_view_module_version": "^0.1.4",
       "colors": [
        "#ff0000",
        "#00ff00",
        "#0000ff"
       ],
       "finished": false,
       "labels": [
        "protein",
        "DNA",
        "RNA"
       ],
       "layout": "IPY_MODEL_5c08c422b4f549c0a3721852ba8c89c7",
       "result": [
        {
         "end": 5,
         "label": "DNA",
         "start": 0
        }
       ],
       "text": "Мама мыла раму"
      }
     },
     "23a71567f7e04b898263de024384b7f2": {
      "model_module": "@jupyter-widgets/base",
      "model_module_version": "1.2.0",
      "model_name": "LayoutModel",
      "state": {}
     },
     "2ad2aafe8515440aad6d68d13964c512": {
      "model_module": "@jupyter-widgets/base",
      "model_module_version": "1.2.0",
      "model_name": "LayoutModel",
      "state": {}
     },
     "3f062fd61cb040769a90445b703b56db": {
      "model_module": "ipylabel",
      "model_module_version": "^0.1.4",
      "model_name": "TextLabelingModel",
      "state": {
       "_model_module_version": "^0.1.4",
       "_view_module_version": "^0.1.4",
       "colors": [
        "#ff0000",
        "#00ff00",
        "#0000ff"
       ],
       "finished": false,
       "labels": [
        "protein",
        "DNA",
        "RNA"
       ],
       "layout": "IPY_MODEL_2ad2aafe8515440aad6d68d13964c512",
       "result": [
        {
         "end": 5,
         "label": "DNA",
         "start": 0
        }
       ],
       "text": "Мама мыла раму"
      }
     },
     "44422d0bdea6449e80b8519dd5eab9cd": {
      "model_module": "@jupyter-widgets/controls",
      "model_module_version": "1.5.0",
      "model_name": "DropdownModel",
      "state": {
       "_options_labels": [
        "1",
        "2",
        "3"
       ],
       "description": "Number:",
       "index": 1,
       "layout": "IPY_MODEL_a69565fb611742f9bc474da5d90843cc",
       "style": "IPY_MODEL_c2cb1e72bc5342fc8b97f94389771d88"
      }
     },
     "54ba8b15a9c7453f92e0c31ac9a8bac9": {
      "model_module": "@jupyter-widgets/base",
      "model_module_version": "1.2.0",
      "model_name": "LayoutModel",
      "state": {}
     },
     "573e0ad39d814311adea733fa2211589": {
      "model_module": "@jupyter-widgets/base",
      "model_module_version": "1.2.0",
      "model_name": "LayoutModel",
      "state": {}
     },
     "5c08c422b4f549c0a3721852ba8c89c7": {
      "model_module": "@jupyter-widgets/base",
      "model_module_version": "1.2.0",
      "model_name": "LayoutModel",
      "state": {}
     },
     "5c95069eac0e4fa3af787d7492aa474b": {
      "model_module": "@jupyter-widgets/base",
      "model_module_version": "1.2.0",
      "model_name": "LayoutModel",
      "state": {}
     },
     "5dcae9be374140b4bd54b0e73a04f426": {
      "model_module": "ipylabel",
      "model_module_version": "^0.1.4",
      "model_name": "TextLabelingModel",
      "state": {
       "_model_module_version": "^0.1.4",
       "_view_module_version": "^0.1.4",
       "colors": [
        "#ff0000",
        "#00ff00",
        "#0000ff"
       ],
       "finished": false,
       "labels": [
        "protein",
        "DNA",
        "RNA"
       ],
       "layout": "IPY_MODEL_54ba8b15a9c7453f92e0c31ac9a8bac9",
       "result": [
        {
         "end": 5,
         "label": "DNA",
         "start": 0
        }
       ],
       "text": "Мама мыла раму"
      }
     },
     "5e2c7b3194e94b448b90774696f4d5e2": {
      "model_module": "@jupyter-widgets/base",
      "model_module_version": "1.2.0",
      "model_name": "LayoutModel",
      "state": {}
     },
     "6645b0a153c541169e46a1f12f70137c": {
      "model_module": "@jupyter-widgets/base",
      "model_module_version": "1.2.0",
      "model_name": "LayoutModel",
      "state": {}
     },
     "8bc643d13262479088a2ccea7b35edce": {
      "model_module": "ipylabel",
      "model_module_version": "^0.1.4",
      "model_name": "TextLabelingModel",
      "state": {
       "_model_module_version": "^0.1.4",
       "_view_module_version": "^0.1.4",
       "colors": [
        "#ff0000",
        "#00ff00",
        "#0000ff"
       ],
       "finished": false,
       "labels": [
        "protein",
        "DNA",
        "RNA"
       ],
       "layout": "IPY_MODEL_5c95069eac0e4fa3af787d7492aa474b",
       "result": [
        {
         "end": 5,
         "label": "DNA",
         "start": 0
        }
       ],
       "text": "Мама мыла раму"
      }
     },
     "951ad6eba628465fa452364ff7ec5b89": {
      "model_module": "ipylabel",
      "model_module_version": "^0.1.4",
      "model_name": "TextLabelingModel",
      "state": {
       "_model_module_version": "^0.1.4",
       "_view_module_version": "^0.1.4",
       "colors": [
        "#ff0000",
        "#00ff00",
        "#0000ff"
       ],
       "finished": false,
       "labels": [
        "protein",
        "DNA",
        "RNA"
       ],
       "layout": "IPY_MODEL_6645b0a153c541169e46a1f12f70137c",
       "result": [
        {
         "end": 5,
         "label": "DNA",
         "start": 0
        }
       ],
       "text": "Мама мыла раму"
      }
     },
     "98213bd07ece430ab73b19d33aa48df6": {
      "model_module": "@jupyter-widgets/base",
      "model_module_version": "1.2.0",
      "model_name": "LayoutModel",
      "state": {}
     },
     "a69565fb611742f9bc474da5d90843cc": {
      "model_module": "@jupyter-widgets/base",
      "model_module_version": "1.2.0",
      "model_name": "LayoutModel",
      "state": {}
     },
     "a6979daaa06343daaa5e557cac6a8ab0": {
      "model_module": "ipylabel",
      "model_module_version": "^0.1.4",
      "model_name": "TextLabelingModel",
      "state": {
       "_model_module_version": "^0.1.4",
       "_view_module_version": "^0.1.4",
       "colors": [
        "#ff0000",
        "#00ff00",
        "#0000ff"
       ],
       "finished": false,
       "labels": [
        "protein",
        "DNA",
        "RNA"
       ],
       "layout": "IPY_MODEL_98213bd07ece430ab73b19d33aa48df6",
       "result": [
        {
         "end": 5,
         "label": "DNA",
         "start": 0
        }
       ],
       "text": "Мама мыла раму"
      }
     },
     "c2cb1e72bc5342fc8b97f94389771d88": {
      "model_module": "@jupyter-widgets/controls",
      "model_module_version": "1.5.0",
      "model_name": "DescriptionStyleModel",
      "state": {
       "description_width": ""
      }
     },
     "c7aad4c743ca4498964dd03ee9b7904c": {
      "model_module": "ipylabel",
      "model_module_version": "^0.1.4",
      "model_name": "TextLabelingModel",
      "state": {
       "_model_module_version": "^0.1.4",
       "_view_module_version": "^0.1.4",
       "colors": [
        "#ff0000",
        "#00ff00",
        "#0000ff"
       ],
       "finished": false,
       "labels": [
        "protein",
        "DNA",
        "RNA"
       ],
       "layout": "IPY_MODEL_573e0ad39d814311adea733fa2211589",
       "result": [
        {
         "end": 5,
         "label": "DNA",
         "start": 0
        }
       ],
       "text": "Мама мыла раму"
      }
     },
     "d5188f79610748369c8a6bb93d5acfce": {
      "model_module": "@jupyter-widgets/base",
      "model_module_version": "1.2.0",
      "model_name": "LayoutModel",
      "state": {}
     },
     "d7664f814f9e49ef85f5874068c6ca22": {
      "model_module": "ipylabel",
      "model_module_version": "^0.1.4",
      "model_name": "TextLabelingModel",
      "state": {
       "_model_module_version": "^0.1.4",
       "_view_module_version": "^0.1.4",
       "colors": [
        "#ff0000",
        "#00ff00",
        "#0000ff"
       ],
       "finished": false,
       "labels": [
        "protein",
        "DNA",
        "RNA"
       ],
       "layout": "IPY_MODEL_23a71567f7e04b898263de024384b7f2",
       "result": [
        {
         "end": 5,
         "label": "DNA",
         "start": 0
        }
       ],
       "text": "Мама мыла раму"
      }
     },
     "dcbfb646efcc40dcbc826d90d2a92d1f": {
      "model_module": "ipylabel",
      "model_module_version": "^0.1.4",
      "model_name": "TextLabelingModel",
      "state": {
       "_model_module_version": "^0.1.4",
       "_view_module_version": "^0.1.4",
       "colors": [
        "#ff0000",
        "#00ff00",
        "#0000ff"
       ],
       "finished": false,
       "labels": [
        "protein",
        "DNA",
        "RNA"
       ],
       "layout": "IPY_MODEL_5e2c7b3194e94b448b90774696f4d5e2",
       "result": [
        {
         "end": 5,
         "label": "DNA",
         "start": 0
        }
       ],
       "text": "Мама мыла раму"
      }
     },
     "e50adb5b27a84201b0d198b652168fb1": {
      "model_module": "@jupyter-widgets/controls",
      "model_module_version": "1.5.0",
      "model_name": "ButtonStyleModel",
      "state": {}
     },
     "eb99f7c0ae6a4aeab25ba79ed6b4bdf0": {
      "model_module": "@jupyter-widgets/base",
      "model_module_version": "1.2.0",
      "model_name": "LayoutModel",
      "state": {}
     },
     "fad56b79c6ac442e9052428c644d707f": {
      "model_module": "@jupyter-widgets/controls",
      "model_module_version": "1.5.0",
      "model_name": "ButtonModel",
      "state": {
       "description": "Click me",
       "icon": "check",
       "layout": "IPY_MODEL_231a33da73184db5b63221d69b018070",
       "style": "IPY_MODEL_e50adb5b27a84201b0d198b652168fb1",
       "tooltip": "Click me"
      }
     }
    },
    "version_major": 2,
    "version_minor": 0
   }
  }
 },
 "nbformat": 4,
 "nbformat_minor": 4
}
