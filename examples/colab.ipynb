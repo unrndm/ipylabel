{
 "cells": [
  {
   "cell_type": "markdown",
   "metadata": {},
   "source": [
    "# Introduction"
   ]
  },
  {
   "cell_type": "code",
   "execution_count": 1,
   "metadata": {},
   "outputs": [
    {
     "name": "stdout",
     "output_type": "stream",
     "text": [
      "Requirement already satisfied: ipylabel>=0.1.4 in /home/unrndm/miniconda3/envs/ipylabel/lib/python3.10/site-packages (0.1.4)\n",
      "Requirement already satisfied: ipywidgets>=7.0.0 in /home/unrndm/miniconda3/envs/ipylabel/lib/python3.10/site-packages (from ipylabel>=0.1.4) (7.7.1)\n",
      "Requirement already satisfied: widgetsnbextension~=3.6.0 in /home/unrndm/miniconda3/envs/ipylabel/lib/python3.10/site-packages (from ipywidgets>=7.0.0->ipylabel>=0.1.4) (3.6.1)\n",
      "Requirement already satisfied: ipykernel>=4.5.1 in /home/unrndm/miniconda3/envs/ipylabel/lib/python3.10/site-packages (from ipywidgets>=7.0.0->ipylabel>=0.1.4) (6.15.1)\n",
      "Requirement already satisfied: ipython-genutils~=0.2.0 in /home/unrndm/miniconda3/envs/ipylabel/lib/python3.10/site-packages (from ipywidgets>=7.0.0->ipylabel>=0.1.4) (0.2.0)\n",
      "Requirement already satisfied: traitlets>=4.3.1 in /home/unrndm/miniconda3/envs/ipylabel/lib/python3.10/site-packages (from ipywidgets>=7.0.0->ipylabel>=0.1.4) (5.3.0)\n",
      "Requirement already satisfied: jupyterlab-widgets>=1.0.0 in /home/unrndm/miniconda3/envs/ipylabel/lib/python3.10/site-packages (from ipywidgets>=7.0.0->ipylabel>=0.1.4) (1.1.1)\n",
      "Requirement already satisfied: ipython>=4.0.0 in /home/unrndm/miniconda3/envs/ipylabel/lib/python3.10/site-packages (from ipywidgets>=7.0.0->ipylabel>=0.1.4) (8.4.0)\n",
      "Requirement already satisfied: packaging in /home/unrndm/miniconda3/envs/ipylabel/lib/python3.10/site-packages (from ipykernel>=4.5.1->ipywidgets>=7.0.0->ipylabel>=0.1.4) (21.3)\n",
      "Requirement already satisfied: nest-asyncio in /home/unrndm/miniconda3/envs/ipylabel/lib/python3.10/site-packages (from ipykernel>=4.5.1->ipywidgets>=7.0.0->ipylabel>=0.1.4) (1.5.5)\n",
      "Requirement already satisfied: matplotlib-inline>=0.1 in /home/unrndm/miniconda3/envs/ipylabel/lib/python3.10/site-packages (from ipykernel>=4.5.1->ipywidgets>=7.0.0->ipylabel>=0.1.4) (0.1.3)\n",
      "Requirement already satisfied: debugpy>=1.0 in /home/unrndm/miniconda3/envs/ipylabel/lib/python3.10/site-packages (from ipykernel>=4.5.1->ipywidgets>=7.0.0->ipylabel>=0.1.4) (1.6.0)\n",
      "Requirement already satisfied: pyzmq>=17 in /home/unrndm/miniconda3/envs/ipylabel/lib/python3.10/site-packages (from ipykernel>=4.5.1->ipywidgets>=7.0.0->ipylabel>=0.1.4) (23.2.1)\n",
      "Requirement already satisfied: psutil in /home/unrndm/miniconda3/envs/ipylabel/lib/python3.10/site-packages (from ipykernel>=4.5.1->ipywidgets>=7.0.0->ipylabel>=0.1.4) (5.9.1)\n",
      "Requirement already satisfied: tornado>=6.1 in /home/unrndm/miniconda3/envs/ipylabel/lib/python3.10/site-packages (from ipykernel>=4.5.1->ipywidgets>=7.0.0->ipylabel>=0.1.4) (6.2)\n",
      "Requirement already satisfied: jupyter-client>=6.1.12 in /home/unrndm/miniconda3/envs/ipylabel/lib/python3.10/site-packages (from ipykernel>=4.5.1->ipywidgets>=7.0.0->ipylabel>=0.1.4) (7.3.4)\n",
      "Requirement already satisfied: setuptools>=18.5 in /home/unrndm/miniconda3/envs/ipylabel/lib/python3.10/site-packages (from ipython>=4.0.0->ipywidgets>=7.0.0->ipylabel>=0.1.4) (65.0.0)\n",
      "Requirement already satisfied: pexpect>4.3 in /home/unrndm/miniconda3/envs/ipylabel/lib/python3.10/site-packages (from ipython>=4.0.0->ipywidgets>=7.0.0->ipylabel>=0.1.4) (4.8.0)\n",
      "Requirement already satisfied: stack-data in /home/unrndm/miniconda3/envs/ipylabel/lib/python3.10/site-packages (from ipython>=4.0.0->ipywidgets>=7.0.0->ipylabel>=0.1.4) (0.4.0)\n",
      "Requirement already satisfied: prompt-toolkit!=3.0.0,!=3.0.1,<3.1.0,>=2.0.0 in /home/unrndm/miniconda3/envs/ipylabel/lib/python3.10/site-packages (from ipython>=4.0.0->ipywidgets>=7.0.0->ipylabel>=0.1.4) (3.0.30)\n",
      "Requirement already satisfied: pickleshare in /home/unrndm/miniconda3/envs/ipylabel/lib/python3.10/site-packages (from ipython>=4.0.0->ipywidgets>=7.0.0->ipylabel>=0.1.4) (0.7.5)\n",
      "Requirement already satisfied: backcall in /home/unrndm/miniconda3/envs/ipylabel/lib/python3.10/site-packages (from ipython>=4.0.0->ipywidgets>=7.0.0->ipylabel>=0.1.4) (0.2.0)\n",
      "Requirement already satisfied: pygments>=2.4.0 in /home/unrndm/miniconda3/envs/ipylabel/lib/python3.10/site-packages (from ipython>=4.0.0->ipywidgets>=7.0.0->ipylabel>=0.1.4) (2.12.0)\n",
      "Requirement already satisfied: decorator in /home/unrndm/miniconda3/envs/ipylabel/lib/python3.10/site-packages (from ipython>=4.0.0->ipywidgets>=7.0.0->ipylabel>=0.1.4) (5.1.1)\n",
      "Requirement already satisfied: jedi>=0.16 in /home/unrndm/miniconda3/envs/ipylabel/lib/python3.10/site-packages (from ipython>=4.0.0->ipywidgets>=7.0.0->ipylabel>=0.1.4) (0.18.1)\n",
      "Requirement already satisfied: notebook>=4.4.1 in /home/unrndm/miniconda3/envs/ipylabel/lib/python3.10/site-packages (from widgetsnbextension~=3.6.0->ipywidgets>=7.0.0->ipylabel>=0.1.4) (6.4.12)\n",
      "Requirement already satisfied: parso<0.9.0,>=0.8.0 in /home/unrndm/miniconda3/envs/ipylabel/lib/python3.10/site-packages (from jedi>=0.16->ipython>=4.0.0->ipywidgets>=7.0.0->ipylabel>=0.1.4) (0.8.3)\n",
      "Requirement already satisfied: entrypoints in /home/unrndm/miniconda3/envs/ipylabel/lib/python3.10/site-packages (from jupyter-client>=6.1.12->ipykernel>=4.5.1->ipywidgets>=7.0.0->ipylabel>=0.1.4) (0.4)\n",
      "Requirement already satisfied: jupyter-core>=4.9.2 in /home/unrndm/miniconda3/envs/ipylabel/lib/python3.10/site-packages (from jupyter-client>=6.1.12->ipykernel>=4.5.1->ipywidgets>=7.0.0->ipylabel>=0.1.4) (4.11.1)\n",
      "Requirement already satisfied: python-dateutil>=2.8.2 in /home/unrndm/miniconda3/envs/ipylabel/lib/python3.10/site-packages (from jupyter-client>=6.1.12->ipykernel>=4.5.1->ipywidgets>=7.0.0->ipylabel>=0.1.4) (2.8.2)\n",
      "Requirement already satisfied: terminado>=0.8.3 in /home/unrndm/miniconda3/envs/ipylabel/lib/python3.10/site-packages (from notebook>=4.4.1->widgetsnbextension~=3.6.0->ipywidgets>=7.0.0->ipylabel>=0.1.4) (0.15.0)\n",
      "Requirement already satisfied: prometheus-client in /home/unrndm/miniconda3/envs/ipylabel/lib/python3.10/site-packages (from notebook>=4.4.1->widgetsnbextension~=3.6.0->ipywidgets>=7.0.0->ipylabel>=0.1.4) (0.14.1)\n",
      "Requirement already satisfied: argon2-cffi in /home/unrndm/miniconda3/envs/ipylabel/lib/python3.10/site-packages (from notebook>=4.4.1->widgetsnbextension~=3.6.0->ipywidgets>=7.0.0->ipylabel>=0.1.4) (21.3.0)\n",
      "Requirement already satisfied: nbformat in /home/unrndm/miniconda3/envs/ipylabel/lib/python3.10/site-packages (from notebook>=4.4.1->widgetsnbextension~=3.6.0->ipywidgets>=7.0.0->ipylabel>=0.1.4) (5.4.0)\n",
      "Requirement already satisfied: jinja2 in /home/unrndm/miniconda3/envs/ipylabel/lib/python3.10/site-packages (from notebook>=4.4.1->widgetsnbextension~=3.6.0->ipywidgets>=7.0.0->ipylabel>=0.1.4) (3.1.2)\n",
      "Requirement already satisfied: Send2Trash>=1.8.0 in /home/unrndm/miniconda3/envs/ipylabel/lib/python3.10/site-packages (from notebook>=4.4.1->widgetsnbextension~=3.6.0->ipywidgets>=7.0.0->ipylabel>=0.1.4) (1.8.0)\n",
      "Requirement already satisfied: nbconvert>=5 in /home/unrndm/miniconda3/envs/ipylabel/lib/python3.10/site-packages (from notebook>=4.4.1->widgetsnbextension~=3.6.0->ipywidgets>=7.0.0->ipylabel>=0.1.4) (6.5.3)\n",
      "Requirement already satisfied: ptyprocess>=0.5 in /home/unrndm/miniconda3/envs/ipylabel/lib/python3.10/site-packages (from pexpect>4.3->ipython>=4.0.0->ipywidgets>=7.0.0->ipylabel>=0.1.4) (0.7.0)\n",
      "Requirement already satisfied: wcwidth in /home/unrndm/miniconda3/envs/ipylabel/lib/python3.10/site-packages (from prompt-toolkit!=3.0.0,!=3.0.1,<3.1.0,>=2.0.0->ipython>=4.0.0->ipywidgets>=7.0.0->ipylabel>=0.1.4) (0.2.5)\n",
      "Requirement already satisfied: pyparsing!=3.0.5,>=2.0.2 in /home/unrndm/miniconda3/envs/ipylabel/lib/python3.10/site-packages (from packaging->ipykernel>=4.5.1->ipywidgets>=7.0.0->ipylabel>=0.1.4) (3.0.9)\n",
      "Requirement already satisfied: asttokens in /home/unrndm/miniconda3/envs/ipylabel/lib/python3.10/site-packages (from stack-data->ipython>=4.0.0->ipywidgets>=7.0.0->ipylabel>=0.1.4) (2.0.8)\n",
      "Requirement already satisfied: executing in /home/unrndm/miniconda3/envs/ipylabel/lib/python3.10/site-packages (from stack-data->ipython>=4.0.0->ipywidgets>=7.0.0->ipylabel>=0.1.4) (0.10.0)\n",
      "Requirement already satisfied: pure-eval in /home/unrndm/miniconda3/envs/ipylabel/lib/python3.10/site-packages (from stack-data->ipython>=4.0.0->ipywidgets>=7.0.0->ipylabel>=0.1.4) (0.2.2)\n",
      "Requirement already satisfied: mistune<2,>=0.8.1 in /home/unrndm/miniconda3/envs/ipylabel/lib/python3.10/site-packages (from nbconvert>=5->notebook>=4.4.1->widgetsnbextension~=3.6.0->ipywidgets>=7.0.0->ipylabel>=0.1.4) (0.8.4)\n",
      "Requirement already satisfied: tinycss2 in /home/unrndm/miniconda3/envs/ipylabel/lib/python3.10/site-packages (from nbconvert>=5->notebook>=4.4.1->widgetsnbextension~=3.6.0->ipywidgets>=7.0.0->ipylabel>=0.1.4) (1.1.1)\n",
      "Requirement already satisfied: nbclient>=0.5.0 in /home/unrndm/miniconda3/envs/ipylabel/lib/python3.10/site-packages (from nbconvert>=5->notebook>=4.4.1->widgetsnbextension~=3.6.0->ipywidgets>=7.0.0->ipylabel>=0.1.4) (0.6.6)\n",
      "Requirement already satisfied: bleach in /home/unrndm/miniconda3/envs/ipylabel/lib/python3.10/site-packages (from nbconvert>=5->notebook>=4.4.1->widgetsnbextension~=3.6.0->ipywidgets>=7.0.0->ipylabel>=0.1.4) (5.0.1)\n",
      "Requirement already satisfied: pandocfilters>=1.4.1 in /home/unrndm/miniconda3/envs/ipylabel/lib/python3.10/site-packages (from nbconvert>=5->notebook>=4.4.1->widgetsnbextension~=3.6.0->ipywidgets>=7.0.0->ipylabel>=0.1.4) (1.5.0)\n",
      "Requirement already satisfied: defusedxml in /home/unrndm/miniconda3/envs/ipylabel/lib/python3.10/site-packages (from nbconvert>=5->notebook>=4.4.1->widgetsnbextension~=3.6.0->ipywidgets>=7.0.0->ipylabel>=0.1.4) (0.7.1)\n",
      "Requirement already satisfied: jupyterlab-pygments in /home/unrndm/miniconda3/envs/ipylabel/lib/python3.10/site-packages (from nbconvert>=5->notebook>=4.4.1->widgetsnbextension~=3.6.0->ipywidgets>=7.0.0->ipylabel>=0.1.4) (0.2.2)\n",
      "Requirement already satisfied: MarkupSafe>=2.0 in /home/unrndm/miniconda3/envs/ipylabel/lib/python3.10/site-packages (from nbconvert>=5->notebook>=4.4.1->widgetsnbextension~=3.6.0->ipywidgets>=7.0.0->ipylabel>=0.1.4) (2.1.1)\n",
      "Requirement already satisfied: lxml in /home/unrndm/miniconda3/envs/ipylabel/lib/python3.10/site-packages (from nbconvert>=5->notebook>=4.4.1->widgetsnbextension~=3.6.0->ipywidgets>=7.0.0->ipylabel>=0.1.4) (4.9.1)\n",
      "Requirement already satisfied: beautifulsoup4 in /home/unrndm/miniconda3/envs/ipylabel/lib/python3.10/site-packages (from nbconvert>=5->notebook>=4.4.1->widgetsnbextension~=3.6.0->ipywidgets>=7.0.0->ipylabel>=0.1.4) (4.11.1)\n",
      "Requirement already satisfied: jsonschema>=2.6 in /home/unrndm/miniconda3/envs/ipylabel/lib/python3.10/site-packages (from nbformat->notebook>=4.4.1->widgetsnbextension~=3.6.0->ipywidgets>=7.0.0->ipylabel>=0.1.4) (4.9.1)\n",
      "Requirement already satisfied: fastjsonschema in /home/unrndm/miniconda3/envs/ipylabel/lib/python3.10/site-packages (from nbformat->notebook>=4.4.1->widgetsnbextension~=3.6.0->ipywidgets>=7.0.0->ipylabel>=0.1.4) (2.16.1)\n",
      "Requirement already satisfied: six>=1.5 in /home/unrndm/miniconda3/envs/ipylabel/lib/python3.10/site-packages (from python-dateutil>=2.8.2->jupyter-client>=6.1.12->ipykernel>=4.5.1->ipywidgets>=7.0.0->ipylabel>=0.1.4) (1.16.0)\n",
      "Requirement already satisfied: argon2-cffi-bindings in /home/unrndm/miniconda3/envs/ipylabel/lib/python3.10/site-packages (from argon2-cffi->notebook>=4.4.1->widgetsnbextension~=3.6.0->ipywidgets>=7.0.0->ipylabel>=0.1.4) (21.2.0)\n",
      "Requirement already satisfied: attrs>=17.4.0 in /home/unrndm/miniconda3/envs/ipylabel/lib/python3.10/site-packages (from jsonschema>=2.6->nbformat->notebook>=4.4.1->widgetsnbextension~=3.6.0->ipywidgets>=7.0.0->ipylabel>=0.1.4) (22.1.0)\n",
      "Requirement already satisfied: pyrsistent!=0.17.0,!=0.17.1,!=0.17.2,>=0.14.0 in /home/unrndm/miniconda3/envs/ipylabel/lib/python3.10/site-packages (from jsonschema>=2.6->nbformat->notebook>=4.4.1->widgetsnbextension~=3.6.0->ipywidgets>=7.0.0->ipylabel>=0.1.4) (0.18.1)\n",
      "Requirement already satisfied: cffi>=1.0.1 in /home/unrndm/miniconda3/envs/ipylabel/lib/python3.10/site-packages (from argon2-cffi-bindings->argon2-cffi->notebook>=4.4.1->widgetsnbextension~=3.6.0->ipywidgets>=7.0.0->ipylabel>=0.1.4) (1.15.1)\n",
      "Requirement already satisfied: soupsieve>1.2 in /home/unrndm/miniconda3/envs/ipylabel/lib/python3.10/site-packages (from beautifulsoup4->nbconvert>=5->notebook>=4.4.1->widgetsnbextension~=3.6.0->ipywidgets>=7.0.0->ipylabel>=0.1.4) (2.3.2.post1)\n",
      "Requirement already satisfied: webencodings in /home/unrndm/miniconda3/envs/ipylabel/lib/python3.10/site-packages (from bleach->nbconvert>=5->notebook>=4.4.1->widgetsnbextension~=3.6.0->ipywidgets>=7.0.0->ipylabel>=0.1.4) (0.5.1)\n",
      "Requirement already satisfied: pycparser in /home/unrndm/miniconda3/envs/ipylabel/lib/python3.10/site-packages (from cffi>=1.0.1->argon2-cffi-bindings->argon2-cffi->notebook>=4.4.1->widgetsnbextension~=3.6.0->ipywidgets>=7.0.0->ipylabel>=0.1.4) (2.21)\n",
      "Note: you may need to restart the kernel to use updated packages.\n"
     ]
    }
   ],
   "source": [
    "%pip install -U \"ipylabel>=0.1.4\""
   ]
  },
  {
   "cell_type": "code",
   "execution_count": 2,
   "metadata": {},
   "outputs": [
    {
     "ename": "ModuleNotFoundError",
     "evalue": "No module named 'google'",
     "output_type": "error",
     "traceback": [
      "\u001b[0;31m---------------------------------------------------------------------------\u001b[0m",
      "\u001b[0;31mModuleNotFoundError\u001b[0m                       Traceback (most recent call last)",
      "\u001b[1;32m/home/unrndm/Projects/ipylabel/examples/colab.ipynb Cell 3\u001b[0m in \u001b[0;36m<cell line: 1>\u001b[0;34m()\u001b[0m\n\u001b[0;32m----> <a href='vscode-notebook-cell:/home/unrndm/Projects/ipylabel/examples/colab.ipynb#W2sZmlsZQ%3D%3D?line=0'>1</a>\u001b[0m \u001b[39mfrom\u001b[39;00m \u001b[39mgoogle\u001b[39;00m\u001b[39m.\u001b[39;00m\u001b[39mcolab\u001b[39;00m \u001b[39mimport\u001b[39;00m output\n\u001b[1;32m      <a href='vscode-notebook-cell:/home/unrndm/Projects/ipylabel/examples/colab.ipynb#W2sZmlsZQ%3D%3D?line=1'>2</a>\u001b[0m output\u001b[39m.\u001b[39menable_custom_widget_manager()\n",
      "\u001b[0;31mModuleNotFoundError\u001b[0m: No module named 'google'"
     ]
    }
   ],
   "source": [
    "from google.colab import output\n",
    "output.enable_custom_widget_manager()"
   ]
  },
  {
   "cell_type": "code",
   "execution_count": 3,
   "metadata": {},
   "outputs": [],
   "source": [
    "import ipylabel"
   ]
  },
  {
   "cell_type": "code",
   "execution_count": 4,
   "metadata": {},
   "outputs": [
    {
     "data": {
      "application/vnd.jupyter.widget-view+json": {
       "model_id": "311f0ddeaaad445487a0c0e1b00ccac4",
       "version_major": 2,
       "version_minor": 0
      },
      "text/plain": [
       "TextWidget(colors=['#ff0000', '#00ff00', '#0000ff'], labels=['protein', 'DNA', 'RNA'], text='Мама мыла раму')"
      ]
     },
     "metadata": {},
     "output_type": "display_data"
    }
   ],
   "source": [
    "t = ipylabel.TextWidget(\n",
    "    text=\"Мама мыла раму\",\n",
    "    labels=[\"protein\", \"DNA\", \"RNA\"],\n",
    "    colors=[\"#ff0000\", \"#00ff00\", \"#0000ff\"],\n",
    ")\n",
    "t"
   ]
  },
  {
   "cell_type": "code",
   "execution_count": null,
   "metadata": {},
   "outputs": [],
   "source": []
  }
 ],
 "metadata": {
  "kernelspec": {
   "display_name": "Python 3.10.5 ('ipylabel')",
   "language": "python",
   "name": "python3"
  },
  "language_info": {
   "codemirror_mode": {
    "name": "ipython",
    "version": 3
   },
   "file_extension": ".py",
   "mimetype": "text/x-python",
   "name": "python",
   "nbconvert_exporter": "python",
   "pygments_lexer": "ipython3",
   "version": "3.10.5"
  },
  "vscode": {
   "interpreter": {
    "hash": "2905e140123fbb01cecfd029de2077beeea6a8f3fbe05939178a9f249a8b5e91"
   }
  }
 },
 "nbformat": 4,
 "nbformat_minor": 4
}
