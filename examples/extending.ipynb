{
 "cells": [
  {
   "cell_type": "markdown",
   "metadata": {},
   "source": [
    "# PLEASE DON'T REFERE TO THIS, THIS IS JUST A TEST AND LAKS IMPORTANT FEATURES (and explanations)"
   ]
  },
  {
   "cell_type": "code",
   "execution_count": null,
   "metadata": {},
   "outputs": [],
   "source": []
  },
  {
   "cell_type": "code",
   "execution_count": null,
   "metadata": {},
   "outputs": [],
   "source": []
  },
  {
   "cell_type": "code",
   "execution_count": null,
   "metadata": {},
   "outputs": [],
   "source": []
  },
  {
   "cell_type": "code",
   "execution_count": null,
   "metadata": {},
   "outputs": [],
   "source": []
  },
  {
   "cell_type": "code",
   "execution_count": null,
   "metadata": {},
   "outputs": [],
   "source": []
  },
  {
   "cell_type": "markdown",
   "metadata": {},
   "source": [
    "# Examples of how to use widget:"
   ]
  },
  {
   "cell_type": "markdown",
   "metadata": {},
   "source": [
    "Aditional dependencies for extra features"
   ]
  },
  {
   "cell_type": "code",
   "execution_count": 1,
   "metadata": {},
   "outputs": [
    {
     "name": "stdout",
     "output_type": "stream",
     "text": [
      "Requirement already satisfied: distinctipy in /home/unrndm/miniconda3/envs/ipylabel/lib/python3.10/site-packages (1.2.2)\n",
      "Requirement already satisfied: numpy in /home/unrndm/miniconda3/envs/ipylabel/lib/python3.10/site-packages (from distinctipy) (1.23.3)\n",
      "Note: you may need to restart the kernel to use updated packages.\n"
     ]
    }
   ],
   "source": [
    "%pip install distinctipy"
   ]
  },
  {
   "cell_type": "code",
   "execution_count": 2,
   "metadata": {},
   "outputs": [],
   "source": [
    "# handle launching on colab\n",
    "if \"google.colab\" in str(get_ipython()):\n",
    "    # running on CoLab\n",
    "    %pip install -U \"ipylabel>=0.1.4\"\n",
    "\n",
    "    from google.colab import output\n",
    "\n",
    "    output.enable_custom_widget_manager()"
   ]
  },
  {
   "cell_type": "code",
   "execution_count": 3,
   "metadata": {},
   "outputs": [],
   "source": [
    "from __future__ import annotations\n",
    "\n",
    "import ipylabel"
   ]
  },
  {
   "cell_type": "markdown",
   "metadata": {},
   "source": [
    "## Extend widget"
   ]
  },
  {
   "cell_type": "code",
   "execution_count": 4,
   "metadata": {},
   "outputs": [
    {
     "data": {
      "application/vnd.jupyter.widget-view+json": {
       "model_id": "5c852ddd5cca46f09ac7e91f397e816e",
       "version_major": 2,
       "version_minor": 0
      },
      "text/plain": [
       "MyExtendedWidget(colors=['#ff0000', '#00ff00', '#0000ff'], labels=['protein', 'DNA', 'RNA'], text='Мама мыла р…"
      ]
     },
     "metadata": {},
     "output_type": "display_data"
    },
    {
     "data": {
      "application/vnd.jupyter.widget-view+json": {
       "model_id": "6d0fe2362c4c4369b9dae4cba0e28d65",
       "version_major": 2,
       "version_minor": 0
      },
      "text/plain": [
       "Output()"
      ]
     },
     "metadata": {},
     "output_type": "display_data"
    }
   ],
   "source": [
    "from traitlets import observe\n",
    "from ipywidgets import Output\n",
    "\n",
    "output = Output()\n",
    "\n",
    "\n",
    "class MyExtendedWidget(ipylabel.TextWidget):\n",
    "    def __init__(self, name: str, **kwargs):\n",
    "        super().__init__(**kwargs)\n",
    "        self.name = name\n",
    "\n",
    "    @observe(\"finished\", \"result\")\n",
    "    @output.capture()\n",
    "    def _finished_and_res_changed(self, change):\n",
    "        # print(\"Value changed to\", change)\n",
    "        if change[\"name\"] == \"finished\" and change[\"new\"]:\n",
    "            answer = None\n",
    "        else:\n",
    "            answer = change[\"owner\"].result\n",
    "        print(answer)\n",
    "\n",
    "\n",
    "my_extended_widget = MyExtendedWidget(\n",
    "    \"first widget\",\n",
    "    text=\"Мама мыла раму\",\n",
    "    labels=[\"protein\", \"DNA\", \"RNA\"],\n",
    "    colors=[\"#ff0000\", \"#00ff00\", \"#0000ff\"],\n",
    ")\n",
    "display(my_extended_widget, output)"
   ]
  },
  {
   "cell_type": "code",
   "execution_count": 5,
   "metadata": {},
   "outputs": [
    {
     "data": {
      "application/vnd.jupyter.widget-view+json": {
       "model_id": "e6f361211a644c0eab4fb10dbea2701d",
       "version_major": 2,
       "version_minor": 0
      },
      "text/plain": [
       "MyAdvancedExtendedWidget(colors=['#00ff00', '#ff00ff', '#0080ff', '#ff8000', '#80bf80'], labels=['protein', 'D…"
      ]
     },
     "metadata": {},
     "output_type": "display_data"
    },
    {
     "data": {
      "application/vnd.jupyter.widget-view+json": {
       "model_id": "b632638856df4d599aac789eff6fffcf",
       "version_major": 2,
       "version_minor": 0
      },
      "text/plain": [
       "Output()"
      ]
     },
     "metadata": {},
     "output_type": "display_data"
    }
   ],
   "source": [
    "from traitlets import observe, default\n",
    "from ipywidgets import Output\n",
    "from distinctipy import distinctipy\n",
    "\n",
    "output = Output()\n",
    "\n",
    "\n",
    "class MyAdvancedExtendedWidget(ipylabel.TextWidget):\n",
    "    def __init__(self, name: str, *args, **kwargs):\n",
    "        super().__init__(**kwargs)\n",
    "        self.name = name\n",
    "\n",
    "    @default(\"colors\")\n",
    "    def get_colors_default(self):\n",
    "        # conversion taken from https://github.com/matplotlib/matplotlib/blob/v3.5.3/lib/matplotlib/colors.py#L389-L408\n",
    "        return [\n",
    "            \"#\" + \"\".join(format(int(round(val * 255)), \"02x\") for val in c)\n",
    "            for c in distinctipy.get_colors(len(self.labels), rng=42)\n",
    "        ]\n",
    "\n",
    "    @observe(\"finished\")\n",
    "    @output.capture()\n",
    "    def _finished_changed(self, change):\n",
    "        print(\"Value changed to\", change)\n",
    "        self.name = change[\"new\"]\n",
    "        print(\"name changed to\", self.name)\n",
    "\n",
    "\n",
    "my_advanced_extended_widget = MyAdvancedExtendedWidget(\n",
    "    \"first widget\",\n",
    "    text=\"Мама мыла раму\",\n",
    "    labels=[\"protein\", \"DNA\", \"RNA\", \"RNA2\", \"RNA3\"],\n",
    ")\n",
    "display(my_advanced_extended_widget, output)"
   ]
  },
  {
   "cell_type": "markdown",
   "metadata": {},
   "source": [
    "## Wrap widget"
   ]
  },
  {
   "cell_type": "code",
   "execution_count": 6,
   "metadata": {},
   "outputs": [
    {
     "data": {
      "application/vnd.jupyter.widget-view+json": {
       "model_id": "b9b559bcedc2451a873624e144bae623",
       "version_major": 2,
       "version_minor": 0
      },
      "text/plain": [
       "TextWidget(colors=['#ff0000', '#00ff00', '#0000ff'], labels=['protein', 'DNA', 'RNA'], text='Мама мыла раму')"
      ]
     },
     "metadata": {},
     "output_type": "display_data"
    },
    {
     "data": {
      "application/vnd.jupyter.widget-view+json": {
       "model_id": "addef599f56c49e4bc317520ad00462e",
       "version_major": 2,
       "version_minor": 0
      },
      "text/plain": [
       "Output()"
      ]
     },
     "metadata": {},
     "output_type": "display_data"
    }
   ],
   "source": [
    "from traitlets import observe\n",
    "from ipywidgets import Output\n",
    "\n",
    "output = Output()\n",
    "\n",
    "\n",
    "class MyWrappedWidget:\n",
    "    def __init__(\n",
    "        self,\n",
    "        name: str,\n",
    "        text: str,\n",
    "        labels: list[str],\n",
    "        colors: list[str],\n",
    "    ):\n",
    "        self.name = name\n",
    "        self.widget = ipylabel.TextWidget(text=text, labels=labels, colors=colors)\n",
    "        self.widget.observe(self._finished_changed, \"finished\")\n",
    "\n",
    "    @output.capture()\n",
    "    def _finished_changed(self, change):\n",
    "        print(\"Value changed to\", change)\n",
    "        self.name = change[\"new\"]\n",
    "        print(\"name changed to\", self.name)\n",
    "\n",
    "\n",
    "my_wrapped_widget = MyWrappedWidget(\n",
    "    \"first widget\",\n",
    "    text=\"Мама мыла раму\",\n",
    "    labels=[\"protein\", \"DNA\", \"RNA\"],\n",
    "    colors=[\"#ff0000\", \"#00ff00\", \"#0000ff\"],\n",
    ")\n",
    "display(my_wrapped_widget.widget, output)"
   ]
  },
  {
   "cell_type": "code",
   "execution_count": 7,
   "metadata": {},
   "outputs": [
    {
     "data": {
      "application/vnd.jupyter.widget-view+json": {
       "model_id": "dbc90a22d6744c3587ca89adc2c5bec8",
       "version_major": 2,
       "version_minor": 0
      },
      "text/plain": [
       "TextWidget(colors=['#00ff00', '#ff00ff', '#0080ff'], labels=['protein', 'DNA', 'RNA'], text='Мама мыла раму')"
      ]
     },
     "metadata": {},
     "output_type": "display_data"
    },
    {
     "data": {
      "text/plain": []
     },
     "metadata": {},
     "output_type": "display_data"
    },
    {
     "data": {
      "application/vnd.jupyter.widget-view+json": {
       "model_id": "952af2232e2f438d97b5627dab607e58",
       "version_major": 2,
       "version_minor": 0
      },
      "text/plain": [
       "Output()"
      ]
     },
     "metadata": {},
     "output_type": "display_data"
    }
   ],
   "source": [
    "from traitlets import observe\n",
    "from ipywidgets import Output\n",
    "\n",
    "output = Output()\n",
    "\n",
    "\n",
    "class MyAdvancedWrappedWidget:\n",
    "    def __init__(\n",
    "        self,\n",
    "        name: str,\n",
    "        text: str,\n",
    "        labels: list[str],\n",
    "    ):\n",
    "        self.name = name\n",
    "        self.widget = ipylabel.TextWidget(\n",
    "            text=text,\n",
    "            labels=labels,\n",
    "            colors=[\n",
    "                \"#\" + \"\".join(format(int(round(val * 255)), \"02x\") for val in c)\n",
    "                for c in distinctipy.get_colors(len(labels), rng=42)\n",
    "            ],\n",
    "        )\n",
    "        self.widget.observe(self._finished_changed, \"finished\")\n",
    "\n",
    "    @output.capture()\n",
    "    def _finished_changed(self, change):\n",
    "        print(\"Value changed to\", change)\n",
    "        self.name = change[\"new\"]\n",
    "        print(\"name changed to\", self.name)\n",
    "\n",
    "    def _repr_pretty_(self, pp, cycle):\n",
    "        return display(self.widget)\n",
    "\n",
    "\n",
    "my_advanced_wrapped_widget = MyAdvancedWrappedWidget(\n",
    "    \"first widget\",\n",
    "    text=\"Мама мыла раму\",\n",
    "    labels=[\"protein\", \"DNA\", \"RNA\"],\n",
    ")\n",
    "display(my_advanced_wrapped_widget, output)"
   ]
  }
 ],
 "metadata": {
  "kernelspec": {
   "display_name": "Python 3 (ipykernel)",
   "language": "python",
   "name": "python3"
  },
  "language_info": {
   "codemirror_mode": {
    "name": "ipython",
    "version": 3
   },
   "file_extension": ".py",
   "mimetype": "text/x-python",
   "name": "python",
   "nbconvert_exporter": "python",
   "pygments_lexer": "ipython3",
   "version": "3.10.5"
  },
  "vscode": {
   "interpreter": {
    "hash": "2905e140123fbb01cecfd029de2077beeea6a8f3fbe05939178a9f249a8b5e91"
   }
  }
 },
 "nbformat": 4,
 "nbformat_minor": 4
}
