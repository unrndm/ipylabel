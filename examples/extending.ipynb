{
 "cells": [
  {
   "cell_type": "markdown",
   "metadata": {},
   "source": [
    "# Examples of how to use widget:"
   ]
  },
  {
   "cell_type": "markdown",
   "metadata": {},
   "source": [
    "Aditional dependencies for extra features"
   ]
  },
  {
   "cell_type": "code",
   "execution_count": 1,
   "metadata": {},
   "outputs": [
    {
     "name": "stdout",
     "output_type": "stream",
     "text": [
      "Requirement already satisfied: distinctipy in /home/unrndm/miniconda3/envs/ipylabel/lib/python3.10/site-packages (1.2.2)\n",
      "Requirement already satisfied: numpy in /home/unrndm/miniconda3/envs/ipylabel/lib/python3.10/site-packages (from distinctipy) (1.23.3)\n",
      "Note: you may need to restart the kernel to use updated packages.\n"
     ]
    }
   ],
   "source": [
    "%pip install distinctipy"
   ]
  },
  {
   "cell_type": "code",
   "execution_count": 2,
   "metadata": {},
   "outputs": [],
   "source": [
    "# handle launching on colab\n",
    "if \"google.colab\" in str(get_ipython()):\n",
    "    # running on CoLab\n",
    "    %pip install -U \"ipylabel>=0.1.7\"\n",
    "\n",
    "    from google.colab import output\n",
    "\n",
    "    output.enable_custom_widget_manager()"
   ]
  },
  {
   "cell_type": "code",
   "execution_count": 3,
   "metadata": {},
   "outputs": [],
   "source": [
    "from __future__ import annotations\n",
    "\n",
    "import ipylabel"
   ]
  },
  {
   "cell_type": "markdown",
   "metadata": {},
   "source": [
    "## Extend widget"
   ]
  },
  {
   "cell_type": "markdown",
   "metadata": {},
   "source": [
    "### Basic example"
   ]
  },
  {
   "cell_type": "code",
   "execution_count": 4,
   "metadata": {},
   "outputs": [
    {
     "data": {
      "application/vnd.jupyter.widget-view+json": {
       "model_id": "fbd091810f3b4eb3b750739ee0681550",
       "version_major": 2,
       "version_minor": 0
      },
      "text/plain": [
       "MyExtendedWidget(colors=['#ff0000', '#00ff00', '#0000ff'], labels=['protein', 'DNA', 'RNA'], text='Мама мыла р…"
      ]
     },
     "metadata": {},
     "output_type": "display_data"
    },
    {
     "data": {
      "application/vnd.jupyter.widget-view+json": {
       "model_id": "8d50e040137c460fa7dba5bf5b66ed1b",
       "version_major": 2,
       "version_minor": 0
      },
      "text/plain": [
       "Output()"
      ]
     },
     "metadata": {},
     "output_type": "display_data"
    }
   ],
   "source": [
    "from traitlets import observe\n",
    "from ipywidgets import Output\n",
    "\n",
    "\n",
    "output = Output()\n",
    "\n",
    "\n",
    "class MyExtendedWidget(ipylabel.TextWidget):\n",
    "    def __init__(self, name: str, **kwargs):\n",
    "        super().__init__(**kwargs)\n",
    "        self.name = name\n",
    "\n",
    "    @observe(\"finished\", \"result\")\n",
    "    @output.capture()\n",
    "    def _finished_and_res_changed(self, change):\n",
    "        if change[\"name\"] == \"finished\" and change[\"new\"]:\n",
    "            answer = None\n",
    "        else:\n",
    "            answer = change[\"owner\"].result\n",
    "        print(answer)\n",
    "\n",
    "\n",
    "my_extended_widget = MyExtendedWidget(\n",
    "    \"first widget\",\n",
    "    text=\"Мама мыла раму\",\n",
    "    labels=[\"protein\", \"DNA\", \"RNA\"],\n",
    "    colors=[\"#ff0000\", \"#00ff00\", \"#0000ff\"],\n",
    ")\n",
    "display(my_extended_widget, output)"
   ]
  },
  {
   "cell_type": "markdown",
   "metadata": {},
   "source": [
    "### More advanced example with more features"
   ]
  },
  {
   "cell_type": "code",
   "execution_count": 5,
   "metadata": {},
   "outputs": [
    {
     "data": {
      "application/vnd.jupyter.widget-view+json": {
       "model_id": "83de109796d34a0b9f90526954f48633",
       "version_major": 2,
       "version_minor": 0
      },
      "text/plain": [
       "MyAdvancedExtendedWidget(colors=['#00ff00', '#ff00ff', '#0080ff', '#ff8000', '#80bf80'], labels=['protein', 'D…"
      ]
     },
     "metadata": {},
     "output_type": "display_data"
    },
    {
     "data": {
      "application/vnd.jupyter.widget-view+json": {
       "model_id": "4d19139d8836428f901efea81f87eb82",
       "version_major": 2,
       "version_minor": 0
      },
      "text/plain": [
       "Output()"
      ]
     },
     "metadata": {},
     "output_type": "display_data"
    }
   ],
   "source": [
    "from traitlets import observe, default\n",
    "from ipywidgets import Output\n",
    "from distinctipy import distinctipy\n",
    "\n",
    "output = Output()\n",
    "\n",
    "\n",
    "class MyAdvancedExtendedWidget(ipylabel.TextWidget):\n",
    "    def __init__(self, name: str, **kwargs):\n",
    "        super().__init__(**kwargs)\n",
    "        self.name = name\n",
    "\n",
    "    @default(\"colors\")\n",
    "    def get_colors_default(self):\n",
    "        # conversion taken from https://github.com/matplotlib/matplotlib/blob/v3.5.3/lib/matplotlib/colors.py#L389-L408\n",
    "        return [\n",
    "            \"#\" + \"\".join(format(int(round(val * 255)), \"02x\") for val in c)\n",
    "            for c in distinctipy.get_colors(len(self.labels), rng=42)\n",
    "        ]\n",
    "\n",
    "    @observe(\"finished\", \"result\")\n",
    "    @output.capture()\n",
    "    def _finished_and_res_changed(self, change):\n",
    "        if change[\"name\"] == \"finished\" and change[\"new\"]:\n",
    "            answer = None\n",
    "        else:\n",
    "            answer = change[\"owner\"].result\n",
    "        print(answer)\n",
    "\n",
    "\n",
    "my_advanced_extended_widget = MyAdvancedExtendedWidget(\n",
    "    \"first widget\",\n",
    "    text=\"Мама мыла раму\",\n",
    "    labels=[\"protein\", \"DNA\", \"RNA\", \"RNA2\", \"RNA3\"],\n",
    ")\n",
    "display(my_advanced_extended_widget, output)"
   ]
  },
  {
   "cell_type": "markdown",
   "metadata": {},
   "source": [
    "## Wrap widget"
   ]
  },
  {
   "cell_type": "markdown",
   "metadata": {},
   "source": [
    "## Basic example"
   ]
  },
  {
   "cell_type": "code",
   "execution_count": 6,
   "metadata": {},
   "outputs": [
    {
     "data": {
      "application/vnd.jupyter.widget-view+json": {
       "model_id": "41b06983d4d6483e88303fdc8fbb6697",
       "version_major": 2,
       "version_minor": 0
      },
      "text/plain": [
       "TextWidget(colors=['#ff0000', '#00ff00', '#0000ff'], labels=['protein', 'DNA', 'RNA'], text='Мама мыла раму')"
      ]
     },
     "metadata": {},
     "output_type": "display_data"
    },
    {
     "data": {
      "application/vnd.jupyter.widget-view+json": {
       "model_id": "84d53354da624106beaae075476db17c",
       "version_major": 2,
       "version_minor": 0
      },
      "text/plain": [
       "Output()"
      ]
     },
     "metadata": {},
     "output_type": "display_data"
    }
   ],
   "source": [
    "from traitlets import observe\n",
    "from ipywidgets import Output\n",
    "\n",
    "output = Output()\n",
    "\n",
    "\n",
    "class MyWrappedWidget:\n",
    "    def __init__(\n",
    "        self,\n",
    "        name: str,\n",
    "        text: str,\n",
    "        labels: list[str],\n",
    "        colors: list[str],\n",
    "    ):\n",
    "        self.name = name\n",
    "        self.widget = ipylabel.TextWidget(text=text, labels=labels, colors=colors)\n",
    "        self.widget.observe(self._finished_and_res_changed, [\"finished\", \"result\"])\n",
    "\n",
    "    @output.capture()\n",
    "    def _finished_and_res_changed(self, change):\n",
    "        if change[\"name\"] == \"finished\" and change[\"new\"]:\n",
    "            answer = None\n",
    "        else:\n",
    "            answer = change[\"owner\"].result\n",
    "        print(answer)\n",
    "\n",
    "\n",
    "my_wrapped_widget = MyWrappedWidget(\n",
    "    \"first widget\",\n",
    "    text=\"Мама мыла раму\",\n",
    "    labels=[\"protein\", \"DNA\", \"RNA\"],\n",
    "    colors=[\"#ff0000\", \"#00ff00\", \"#0000ff\"],\n",
    ")\n",
    "display(my_wrapped_widget.widget, output)"
   ]
  },
  {
   "cell_type": "markdown",
   "metadata": {},
   "source": [
    "## Advanced example"
   ]
  },
  {
   "cell_type": "code",
   "execution_count": 7,
   "metadata": {},
   "outputs": [
    {
     "data": {
      "application/vnd.jupyter.widget-view+json": {
       "model_id": "5578d4a9cdd64bfb821a16c0035ec918",
       "version_major": 2,
       "version_minor": 0
      },
      "text/plain": [
       "TextWidget(colors=['#00ff00', '#ff00ff', '#0080ff'], labels=['protein', 'DNA', 'RNA'], text='Мама мыла раму')"
      ]
     },
     "metadata": {},
     "output_type": "display_data"
    },
    {
     "data": {
      "text/plain": []
     },
     "metadata": {},
     "output_type": "display_data"
    },
    {
     "data": {
      "application/vnd.jupyter.widget-view+json": {
       "model_id": "0e9a9dcc6ae2473f9a678985dcd2f554",
       "version_major": 2,
       "version_minor": 0
      },
      "text/plain": [
       "Output()"
      ]
     },
     "metadata": {},
     "output_type": "display_data"
    }
   ],
   "source": [
    "from traitlets import observe\n",
    "from ipywidgets import Output\n",
    "\n",
    "output = Output()\n",
    "\n",
    "\n",
    "class MyAdvancedWrappedWidget:\n",
    "    def __init__(\n",
    "        self,\n",
    "        name: str,\n",
    "        text: str,\n",
    "        labels: list[str],\n",
    "    ):\n",
    "        self.name = name\n",
    "        self.widget = ipylabel.TextWidget(\n",
    "            text=text,\n",
    "            labels=labels,\n",
    "            colors=[\n",
    "                \"#\" + \"\".join(format(int(round(val * 255)), \"02x\") for val in c)\n",
    "                for c in distinctipy.get_colors(len(labels), rng=42)\n",
    "            ],\n",
    "        )\n",
    "        self.widget.observe(self._finished_and_res_changed, [\"finished\", \"result\"])\n",
    "\n",
    "    @output.capture()\n",
    "    def _finished_and_res_changed(self, change):\n",
    "        if change[\"name\"] == \"finished\" and change[\"new\"]:\n",
    "            answer = None\n",
    "        else:\n",
    "            answer = change[\"owner\"].result\n",
    "        print(answer)\n",
    "\n",
    "    def _repr_pretty_(self, pp, cycle):\n",
    "        return display(self.widget)\n",
    "\n",
    "\n",
    "my_advanced_wrapped_widget = MyAdvancedWrappedWidget(\n",
    "    \"first widget\",\n",
    "    text=\"Мама мыла раму\",\n",
    "    labels=[\"protein\", \"DNA\", \"RNA\"],\n",
    ")\n",
    "display(my_advanced_wrapped_widget, output)"
   ]
  },
  {
   "cell_type": "code",
   "execution_count": null,
   "metadata": {},
   "outputs": [],
   "source": []
  }
 ],
 "metadata": {
  "kernelspec": {
   "display_name": "Python 3 (ipykernel)",
   "language": "python",
   "name": "python3"
  },
  "language_info": {
   "codemirror_mode": {
    "name": "ipython",
    "version": 3
   },
   "file_extension": ".py",
   "mimetype": "text/x-python",
   "name": "python",
   "nbconvert_exporter": "python",
   "pygments_lexer": "ipython3",
   "version": "3.10.5"
  },
  "vscode": {
   "interpreter": {
    "hash": "2905e140123fbb01cecfd029de2077beeea6a8f3fbe05939178a9f249a8b5e91"
   }
  },
  "widgets": {
   "application/vnd.jupyter.widget-state+json": {
    "state": {
     "0e9a9dcc6ae2473f9a678985dcd2f554": {
      "model_module": "@jupyter-widgets/output",
      "model_module_version": "1.0.0",
      "model_name": "OutputModel",
      "state": {
       "layout": "IPY_MODEL_968006aae09245d88488cd024d92ea37"
      }
     },
     "30dde0b6c61d4de3b0fc17e81b67fa12": {
      "model_module": "@jupyter-widgets/base",
      "model_module_version": "1.2.0",
      "model_name": "LayoutModel",
      "state": {}
     },
     "41b06983d4d6483e88303fdc8fbb6697": {
      "model_module": "ipylabel",
      "model_module_version": "^0.1.7",
      "model_name": "TextLabelingModel",
      "state": {
       "_model_module_version": "^0.1.7",
       "_view_module_version": "^0.1.7",
       "colors": [
        "#ff0000",
        "#00ff00",
        "#0000ff"
       ],
       "finished": false,
       "labels": [
        "protein",
        "DNA",
        "RNA"
       ],
       "layout": "IPY_MODEL_a20cba21180642afb473bcce69cec437",
       "result": [],
       "text": "Мама мыла раму"
      }
     },
     "4d19139d8836428f901efea81f87eb82": {
      "model_module": "@jupyter-widgets/output",
      "model_module_version": "1.0.0",
      "model_name": "OutputModel",
      "state": {
       "layout": "IPY_MODEL_7b852b4f3e894d8bacfe5da52ac99d5e"
      }
     },
     "5578d4a9cdd64bfb821a16c0035ec918": {
      "model_module": "ipylabel",
      "model_module_version": "^0.1.7",
      "model_name": "TextLabelingModel",
      "state": {
       "_model_module_version": "^0.1.7",
       "_view_module_version": "^0.1.7",
       "colors": [
        "#00ff00",
        "#ff00ff",
        "#0080ff"
       ],
       "finished": false,
       "labels": [
        "protein",
        "DNA",
        "RNA"
       ],
       "layout": "IPY_MODEL_30dde0b6c61d4de3b0fc17e81b67fa12",
       "result": [],
       "text": "Мама мыла раму"
      }
     },
     "5d2a3b3311624409b539b3941e5254fc": {
      "model_module": "@jupyter-widgets/base",
      "model_module_version": "1.2.0",
      "model_name": "LayoutModel",
      "state": {}
     },
     "7b852b4f3e894d8bacfe5da52ac99d5e": {
      "model_module": "@jupyter-widgets/base",
      "model_module_version": "1.2.0",
      "model_name": "LayoutModel",
      "state": {}
     },
     "83de109796d34a0b9f90526954f48633": {
      "model_module": "ipylabel",
      "model_module_version": "^0.1.7",
      "model_name": "TextLabelingModel",
      "state": {
       "_model_module_version": "^0.1.7",
       "_view_module_version": "^0.1.7",
       "colors": [
        "#00ff00",
        "#ff00ff",
        "#0080ff",
        "#ff8000",
        "#80bf80"
       ],
       "finished": false,
       "labels": [
        "protein",
        "DNA",
        "RNA",
        "RNA2",
        "RNA3"
       ],
       "layout": "IPY_MODEL_a8e710daecdb4dfcb58d5f6458f9cc9f",
       "result": [],
       "text": "Мама мыла раму"
      }
     },
     "84d53354da624106beaae075476db17c": {
      "model_module": "@jupyter-widgets/output",
      "model_module_version": "1.0.0",
      "model_name": "OutputModel",
      "state": {
       "layout": "IPY_MODEL_c07f60292dff4b838a4daaf6f24b5398"
      }
     },
     "8d50e040137c460fa7dba5bf5b66ed1b": {
      "model_module": "@jupyter-widgets/output",
      "model_module_version": "1.0.0",
      "model_name": "OutputModel",
      "state": {
       "layout": "IPY_MODEL_5d2a3b3311624409b539b3941e5254fc"
      }
     },
     "968006aae09245d88488cd024d92ea37": {
      "model_module": "@jupyter-widgets/base",
      "model_module_version": "1.2.0",
      "model_name": "LayoutModel",
      "state": {}
     },
     "a20cba21180642afb473bcce69cec437": {
      "model_module": "@jupyter-widgets/base",
      "model_module_version": "1.2.0",
      "model_name": "LayoutModel",
      "state": {}
     },
     "a8e710daecdb4dfcb58d5f6458f9cc9f": {
      "model_module": "@jupyter-widgets/base",
      "model_module_version": "1.2.0",
      "model_name": "LayoutModel",
      "state": {}
     },
     "b35d47217a9d4a08808245171cf32489": {
      "model_module": "@jupyter-widgets/base",
      "model_module_version": "1.2.0",
      "model_name": "LayoutModel",
      "state": {}
     },
     "c07f60292dff4b838a4daaf6f24b5398": {
      "model_module": "@jupyter-widgets/base",
      "model_module_version": "1.2.0",
      "model_name": "LayoutModel",
      "state": {}
     },
     "fbd091810f3b4eb3b750739ee0681550": {
      "model_module": "ipylabel",
      "model_module_version": "^0.1.7",
      "model_name": "TextLabelingModel",
      "state": {
       "_model_module_version": "^0.1.7",
       "_view_module_version": "^0.1.7",
       "colors": [
        "#ff0000",
        "#00ff00",
        "#0000ff"
       ],
       "finished": false,
       "labels": [
        "protein",
        "DNA",
        "RNA"
       ],
       "layout": "IPY_MODEL_b35d47217a9d4a08808245171cf32489",
       "result": [],
       "text": "Мама мыла раму"
      }
     }
    },
    "version_major": 2,
    "version_minor": 0
   }
  }
 },
 "nbformat": 4,
 "nbformat_minor": 4
}
